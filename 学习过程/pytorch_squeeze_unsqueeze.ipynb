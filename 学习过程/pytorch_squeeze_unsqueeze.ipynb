{
  "nbformat": 4,
  "nbformat_minor": 0,
  "metadata": {
    "colab": {
      "name": "pytorch_squeeze_unsqueeze.ipynb",
      "provenance": []
    },
    "kernelspec": {
      "name": "python3",
      "display_name": "Python 3"
    }
  },
  "cells": [
    {
      "cell_type": "code",
      "metadata": {
        "id": "GbKYmXXLAkPG"
      },
      "source": [
        "import torch\n",
        "import numpy as np"
      ],
      "execution_count": 1,
      "outputs": []
    },
    {
      "cell_type": "code",
      "metadata": {
        "colab": {
          "base_uri": "https://localhost:8080/"
        },
        "id": "ZCE5sHn1AuAS",
        "outputId": "4fe165fb-3e3f-43cf-a084-fe10010e92af"
      },
      "source": [
        "arr = np.arange(6)\n",
        "arr"
      ],
      "execution_count": 3,
      "outputs": [
        {
          "output_type": "execute_result",
          "data": {
            "text/plain": [
              "array([0, 1, 2, 3, 4, 5])"
            ]
          },
          "metadata": {
            "tags": []
          },
          "execution_count": 3
        }
      ]
    },
    {
      "cell_type": "code",
      "metadata": {
        "colab": {
          "base_uri": "https://localhost:8080/"
        },
        "id": "uRX8jMLfBIzC",
        "outputId": "5d361cc5-e4f9-4c3f-b203-a334a6541661"
      },
      "source": [
        "arr2 = arr.reshape(2,3)\n",
        "arr2"
      ],
      "execution_count": 4,
      "outputs": [
        {
          "output_type": "execute_result",
          "data": {
            "text/plain": [
              "array([[0, 1, 2],\n",
              "       [3, 4, 5]])"
            ]
          },
          "metadata": {
            "tags": []
          },
          "execution_count": 4
        }
      ]
    },
    {
      "cell_type": "code",
      "metadata": {
        "colab": {
          "base_uri": "https://localhost:8080/"
        },
        "id": "BQGL9ZPmBQ0N",
        "outputId": "359abc46-dabc-4a2b-ae9a-57edabce6362"
      },
      "source": [
        "data = torch.from_numpy(arr2)\n",
        "data"
      ],
      "execution_count": 5,
      "outputs": [
        {
          "output_type": "execute_result",
          "data": {
            "text/plain": [
              "tensor([[0, 1, 2],\n",
              "        [3, 4, 5]])"
            ]
          },
          "metadata": {
            "tags": []
          },
          "execution_count": 5
        }
      ]
    },
    {
      "cell_type": "code",
      "metadata": {
        "colab": {
          "base_uri": "https://localhost:8080/"
        },
        "id": "5qHlgbt6BUzH",
        "outputId": "fd656119-11fd-4613-869a-7226485a78e2"
      },
      "source": [
        "data.shape"
      ],
      "execution_count": 6,
      "outputs": [
        {
          "output_type": "execute_result",
          "data": {
            "text/plain": [
              "torch.Size([2, 3])"
            ]
          },
          "metadata": {
            "tags": []
          },
          "execution_count": 6
        }
      ]
    },
    {
      "cell_type": "code",
      "metadata": {
        "colab": {
          "base_uri": "https://localhost:8080/"
        },
        "id": "lGNZdimQBXtD",
        "outputId": "55437679-f746-4561-e604-f50cc88d5dab"
      },
      "source": [
        "data.squeeze(1),data.squeeze(1).shape"
      ],
      "execution_count": 9,
      "outputs": [
        {
          "output_type": "execute_result",
          "data": {
            "text/plain": [
              "(tensor([[0, 1, 2],\n",
              "         [3, 4, 5]]), torch.Size([2, 3]))"
            ]
          },
          "metadata": {
            "tags": []
          },
          "execution_count": 9
        }
      ]
    },
    {
      "cell_type": "code",
      "metadata": {
        "colab": {
          "base_uri": "https://localhost:8080/"
        },
        "id": "GortRRjOBlRr",
        "outputId": "e43696cf-488a-402e-9569-bc5b849d4f99"
      },
      "source": [
        "data.squeeze(0),data.squeeze(0).shape"
      ],
      "execution_count": 10,
      "outputs": [
        {
          "output_type": "execute_result",
          "data": {
            "text/plain": [
              "(tensor([[0, 1, 2],\n",
              "         [3, 4, 5]]), torch.Size([2, 3]))"
            ]
          },
          "metadata": {
            "tags": []
          },
          "execution_count": 10
        }
      ]
    },
    {
      "cell_type": "markdown",
      "metadata": {
        "id": "783xb15BCS1J"
      },
      "source": [
        "unsqueeze 代表的是增加一个维度"
      ]
    },
    {
      "cell_type": "code",
      "metadata": {
        "colab": {
          "base_uri": "https://localhost:8080/"
        },
        "id": "NN0tDnf7B1KI",
        "outputId": "5d8e07a0-5323-4206-af16-0f1d5cb31116"
      },
      "source": [
        "data.unsqueeze(0),data.unsqueeze(0).shape"
      ],
      "execution_count": 11,
      "outputs": [
        {
          "output_type": "execute_result",
          "data": {
            "text/plain": [
              "(tensor([[[0, 1, 2],\n",
              "          [3, 4, 5]]]), torch.Size([1, 2, 3]))"
            ]
          },
          "metadata": {
            "tags": []
          },
          "execution_count": 11
        }
      ]
    },
    {
      "cell_type": "code",
      "metadata": {
        "colab": {
          "base_uri": "https://localhost:8080/"
        },
        "id": "I5bCtsAoCED2",
        "outputId": "f45b9449-88b6-42d3-d9e2-c80f37079d81"
      },
      "source": [
        "data.unsqueeze(1),data.unsqueeze(1).shape"
      ],
      "execution_count": 12,
      "outputs": [
        {
          "output_type": "execute_result",
          "data": {
            "text/plain": [
              "(tensor([[[0, 1, 2]],\n",
              " \n",
              "         [[3, 4, 5]]]), torch.Size([2, 1, 3]))"
            ]
          },
          "metadata": {
            "tags": []
          },
          "execution_count": 12
        }
      ]
    },
    {
      "cell_type": "code",
      "metadata": {
        "colab": {
          "base_uri": "https://localhost:8080/"
        },
        "id": "onrBKoF4CMSS",
        "outputId": "906c4b54-cba7-4191-98c6-3b9c6ffe7bfa"
      },
      "source": [
        "data.unsqueeze(2),data.unsqueeze(2).shape"
      ],
      "execution_count": 13,
      "outputs": [
        {
          "output_type": "execute_result",
          "data": {
            "text/plain": [
              "(tensor([[[0],\n",
              "          [1],\n",
              "          [2]],\n",
              " \n",
              "         [[3],\n",
              "          [4],\n",
              "          [5]]]), torch.Size([2, 3, 1]))"
            ]
          },
          "metadata": {
            "tags": []
          },
          "execution_count": 13
        }
      ]
    },
    {
      "cell_type": "markdown",
      "metadata": {
        "id": "KipdTU3LCZnH"
      },
      "source": [
        "squeeze代表去除一个维度,但是该维度必须要是1,而不能大于0"
      ]
    },
    {
      "cell_type": "code",
      "metadata": {
        "colab": {
          "base_uri": "https://localhost:8080/"
        },
        "id": "t6n8mBeSCPAa",
        "outputId": "76667001-b048-41e0-82e4-76602a9d0f46"
      },
      "source": [
        "data.unsqueeze(2).squeeze(2),data.unsqueeze(2).squeeze(2).shape"
      ],
      "execution_count": 15,
      "outputs": [
        {
          "output_type": "execute_result",
          "data": {
            "text/plain": [
              "(tensor([[0, 1, 2],\n",
              "         [3, 4, 5]]), torch.Size([2, 3]))"
            ]
          },
          "metadata": {
            "tags": []
          },
          "execution_count": 15
        }
      ]
    },
    {
      "cell_type": "code",
      "metadata": {
        "id": "PPR8syQFCoDS"
      },
      "source": [
        ""
      ],
      "execution_count": null,
      "outputs": []
    }
  ]
}