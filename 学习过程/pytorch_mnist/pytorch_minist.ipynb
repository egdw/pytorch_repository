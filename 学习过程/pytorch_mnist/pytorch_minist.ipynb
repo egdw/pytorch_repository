{
  "nbformat": 4,
  "nbformat_minor": 0,
  "metadata": {
    "colab": {
      "name": "pytorch_minist.ipynb",
      "provenance": [],
      "collapsed_sections": []
    },
    "kernelspec": {
      "name": "python3",
      "display_name": "Python 3"
    },
    "accelerator": "GPU"
  },
  "cells": [
    {
      "cell_type": "code",
      "metadata": {
        "id": "9yAfJ0-8zQjd"
      },
      "source": [
        "# 利用pytorch对minist进行识别\n",
        "import torch\n",
        "import numpy\n",
        "from torchvision import datasets,transforms\n",
        "import torchvision\n",
        "import torch.nn as nn\n",
        "import torch.optim as optim\n",
        "import torch.nn.functional as F\n",
        "import matplotlib.pyplot as plt"
      ],
      "execution_count": null,
      "outputs": []
    },
    {
      "cell_type": "code",
      "metadata": {
        "colab": {
          "base_uri": "https://localhost:8080/"
        },
        "id": "BWbU_58lG9T2",
        "outputId": "32046ec5-2ecf-4b5a-b3be-7daabcb5c937"
      },
      "source": [
        "torch.cuda.is_available()"
      ],
      "execution_count": null,
      "outputs": [
        {
          "output_type": "execute_result",
          "data": {
            "text/plain": [
              "True"
            ]
          },
          "metadata": {
            "tags": []
          },
          "execution_count": 24
        }
      ]
    },
    {
      "cell_type": "code",
      "metadata": {
        "colab": {
          "base_uri": "https://localhost:8080/"
        },
        "id": "rjwUGFOSHKEf",
        "outputId": "6c0685a3-d162-4dd8-d5cd-367b670ecd20"
      },
      "source": [
        "torch.cuda.device_count() "
      ],
      "execution_count": null,
      "outputs": [
        {
          "output_type": "execute_result",
          "data": {
            "text/plain": [
              "1"
            ]
          },
          "metadata": {
            "tags": []
          },
          "execution_count": 25
        }
      ]
    },
    {
      "cell_type": "code",
      "metadata": {
        "colab": {
          "base_uri": "https://localhost:8080/"
        },
        "id": "KyWwWPv-HLZh",
        "outputId": "dcfb094a-cd6d-4acf-bc21-ca41f282d522"
      },
      "source": [
        "torch.cuda.current_device()"
      ],
      "execution_count": null,
      "outputs": [
        {
          "output_type": "execute_result",
          "data": {
            "text/plain": [
              "0"
            ]
          },
          "metadata": {
            "tags": []
          },
          "execution_count": 26
        }
      ]
    },
    {
      "cell_type": "code",
      "metadata": {
        "colab": {
          "base_uri": "https://localhost:8080/",
          "height": 35
        },
        "id": "4dlj6TEMHNM2",
        "outputId": "9f3eb21f-59ef-40de-b8e7-cb0dcdaf6eb4"
      },
      "source": [
        "torch.cuda.get_device_name(0)"
      ],
      "execution_count": null,
      "outputs": [
        {
          "output_type": "execute_result",
          "data": {
            "application/vnd.google.colaboratory.intrinsic+json": {
              "type": "string"
            },
            "text/plain": [
              "'Tesla K80'"
            ]
          },
          "metadata": {
            "tags": []
          },
          "execution_count": 27
        }
      ]
    },
    {
      "cell_type": "code",
      "metadata": {
        "id": "9qrzO88DHP5m"
      },
      "source": [
        "device = torch.device('cuda' if torch.cuda.is_available() else 'cpu')"
      ],
      "execution_count": null,
      "outputs": []
    },
    {
      "cell_type": "code",
      "metadata": {
        "id": "DlNUtMOjzg00"
      },
      "source": [
        "transform=transforms.Compose([transforms.ToTensor(),transforms.Normalize(mean=[0.5],std=[0.5])])\n",
        "data_train=datasets.MNIST(root=\"./data\",  transform=transform, train=True,download=True)\n",
        "data_test=datasets.MNIST(root=\"./data\", transform=transform, train=False)"
      ],
      "execution_count": null,
      "outputs": []
    },
    {
      "cell_type": "code",
      "metadata": {
        "id": "qbDmZ2QvyUE4"
      },
      "source": [
        "# 进行数据装载\n",
        "data_loader_train = torch.utils.data.DataLoader(dataset=data_train,\n",
        "                                                batch_size = 64,\n",
        "                                                shuffle = True)\n",
        "\n",
        "data_loader_test = torch.utils.data.DataLoader(dataset=data_test,\n",
        "                                               batch_size = 64,\n",
        "                                               shuffle = True)"
      ],
      "execution_count": null,
      "outputs": []
    },
    {
      "cell_type": "code",
      "metadata": {
        "id": "f-bPUDP70oPr"
      },
      "source": [
        "# 通过tensorflow获取mnist"
      ],
      "execution_count": null,
      "outputs": []
    },
    {
      "cell_type": "code",
      "metadata": {
        "id": "4KGxTE-A0yzY"
      },
      "source": [
        "class MnistLayer(torch.nn.Module):\n",
        "  def __init__(self):\n",
        "    super(MnistLayer,self).__init__()\n",
        "    # 28 * 28\n",
        "    self.conv1 = nn.Conv2d(1,64,3,stride=1,padding=1)\n",
        "    self.conv2 = nn.Conv2d(64,128,3,stride=1,padding=1)\n",
        "    self.max_pool = nn.MaxPool2d(2,stride=2)\n",
        "\n",
        "    self.relu = nn.ReLU()\n",
        "    self.fc1 = nn.Linear(7*7*128,256)\n",
        "    self.fc2 = nn.Linear(256,64)\n",
        "    self.fc3 = nn.Linear(64,10)\n",
        "    self.drop = nn.Dropout2d(0.5)\n",
        "    self.flatten = nn.Flatten()\n",
        "\n",
        "  def forward(self,x):\n",
        "    # x = F.max_pool2d(F.relu(self.conv1(x)),(2,2))\n",
        "    # print(x.shape)\n",
        "    x = self.conv1(x)\n",
        "    # print(\"self.conv1(x)\",x.shape)\n",
        "    x = self.relu(x)\n",
        "    # print(\"self.relu(x)\",x.shape)\n",
        "    x = self.max_pool(x)\n",
        "    # print(\"self.max_pool(x)\",x.shape)\n",
        "    x = self.conv2(x)\n",
        "    # print(\"self.conv2(x)\",x.shape)\n",
        "    x = self.relu(x)\n",
        "    # print(\"self.relu(x)\",x.shape)\n",
        "    x = self.max_pool(x)\n",
        "    # print(\"self.max_pool(x)\",x.shape)\n",
        "    x = self.flatten(x)\n",
        "    # print(\"self.flatten(x)\",x.shape)\n",
        "    x = F.relu(self.fc1(x))\n",
        "    self.drop(x)\n",
        "    x = F.relu(self.fc2(x))\n",
        "    self.drop(x)\n",
        "    return self.fc3(x)"
      ],
      "execution_count": null,
      "outputs": []
    },
    {
      "cell_type": "code",
      "metadata": {
        "id": "f14bOA_DeaZY",
        "colab": {
          "base_uri": "https://localhost:8080/"
        },
        "outputId": "8f69d548-13c7-4abf-eb6e-cd5899d01bd9"
      },
      "source": [
        "mnist = MnistLayer()\n",
        "mnist = mnist.cuda()\n",
        "print(mnist)"
      ],
      "execution_count": null,
      "outputs": [
        {
          "output_type": "stream",
          "text": [
            "MnistLayer(\n",
            "  (conv1): Conv2d(1, 64, kernel_size=(3, 3), stride=(1, 1), padding=(1, 1))\n",
            "  (conv2): Conv2d(64, 128, kernel_size=(3, 3), stride=(1, 1), padding=(1, 1))\n",
            "  (max_pool): MaxPool2d(kernel_size=2, stride=2, padding=0, dilation=1, ceil_mode=False)\n",
            "  (relu): ReLU()\n",
            "  (fc1): Linear(in_features=6272, out_features=256, bias=True)\n",
            "  (fc2): Linear(in_features=256, out_features=64, bias=True)\n",
            "  (fc3): Linear(in_features=64, out_features=10, bias=True)\n",
            "  (drop): Dropout2d(p=0.5, inplace=False)\n",
            "  (flatten): Flatten(start_dim=1, end_dim=-1)\n",
            ")\n"
          ],
          "name": "stdout"
        }
      ]
    },
    {
      "cell_type": "code",
      "metadata": {
        "id": "GuMM6O0Fxnu9"
      },
      "source": [
        "optimizer = optim.Adam(mnist.parameters(),lr=0.001)"
      ],
      "execution_count": null,
      "outputs": []
    },
    {
      "cell_type": "code",
      "metadata": {
        "id": "Q0mV1a9s2Dhj"
      },
      "source": [
        "# define cost function\n",
        "cost = nn.CrossEntropyLoss()"
      ],
      "execution_count": null,
      "outputs": []
    },
    {
      "cell_type": "code",
      "metadata": {
        "id": "7pQoM5Bc55R9"
      },
      "source": [
        "n_epochs = 5"
      ],
      "execution_count": null,
      "outputs": []
    },
    {
      "cell_type": "code",
      "metadata": {
        "colab": {
          "base_uri": "https://localhost:8080/"
        },
        "id": "0gpSEXM87CXv",
        "outputId": "8966a7bc-06c9-40a6-eb62-3b90fdc9ef85"
      },
      "source": [
        "for epoch in range(n_epochs):\n",
        "  running_loss = 0.0\n",
        "  running_correct = 0.0\n",
        "  print(\"Epoch {}/{}\".format(epoch, n_epochs))\n",
        "  for data in data_loader_train:\n",
        "    X_train,y_train = data\n",
        "    X_train = X_train.cuda()\n",
        "    y_train = y_train.cuda()\n",
        "    out = mnist(X_train)\n",
        "    # print(out.shape)\n",
        "    # print(out)\n",
        "    # print()\n",
        "    _,pred = torch.max(out,1)\n",
        "    optimizer.zero_grad()#清除梯度\n",
        "    loss = cost(out,y_train)\n",
        "    loss.backward()\n",
        "    optimizer.step()\n",
        "    running_loss += loss.item()\n",
        "    running_correct += torch.sum(pred == y_train.data)\n",
        "  testing_correct = 0\n",
        "  for data in data_loader_test:\n",
        "    X_test, y_test = data\n",
        "    X_test = X_test.cuda()\n",
        "    y_test = y_test.cuda()\n",
        "    outputs = mnist(X_test)\n",
        "    _, pred = torch.max(outputs.data, 1)\n",
        "    testing_correct += torch.sum(pred == y_test.data)\n",
        "  print(\"Loss is:{:.4f}, Train Accuracy is:{:.4f}%, Test Accuracy is:{:.4f}\".format(running_loss/len(data_train),100*running_correct/len(data_train),100*testing_correct/len(data_test)))"
      ],
      "execution_count": null,
      "outputs": [
        {
          "output_type": "stream",
          "text": [
            "Epoch 0/5\n",
            "Loss is:0.0022, Train Accuracy is:95.6983%, Test Accuracy is:98.3200\n",
            "Epoch 1/5\n",
            "Loss is:0.0007, Train Accuracy is:98.6567%, Test Accuracy is:98.8400\n",
            "Epoch 2/5\n",
            "Loss is:0.0005, Train Accuracy is:99.0183%, Test Accuracy is:99.0800\n",
            "Epoch 3/5\n",
            "Loss is:0.0003, Train Accuracy is:99.2417%, Test Accuracy is:99.1800\n",
            "Epoch 4/5\n",
            "Loss is:0.0002, Train Accuracy is:99.5050%, Test Accuracy is:99.1700\n"
          ],
          "name": "stdout"
        }
      ]
    },
    {
      "cell_type": "code",
      "metadata": {
        "id": "fbC3UqmZ9JHc"
      },
      "source": [
        ""
      ],
      "execution_count": null,
      "outputs": []
    }
  ]
}