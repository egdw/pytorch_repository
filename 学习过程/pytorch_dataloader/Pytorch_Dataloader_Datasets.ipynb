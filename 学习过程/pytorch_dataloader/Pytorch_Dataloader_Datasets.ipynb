{
  "nbformat": 4,
  "nbformat_minor": 0,
  "metadata": {
    "colab": {
      "name": "Pytorch_Dataloader_Datasets.ipynb",
      "provenance": [],
      "collapsed_sections": []
    },
    "kernelspec": {
      "name": "python3",
      "display_name": "Python 3"
    }
  },
  "cells": [
    {
      "cell_type": "code",
      "metadata": {
        "id": "3qHYzAH0q0Aj"
      },
      "source": [
        "import torch"
      ],
      "execution_count": 148,
      "outputs": []
    },
    {
      "cell_type": "code",
      "metadata": {
        "id": "wrjgeNAGq-jv"
      },
      "source": [
        "device = torch.device(\"cuda:0\" if torch.cuda.is_available() else \"cpu\")"
      ],
      "execution_count": 149,
      "outputs": []
    },
    {
      "cell_type": "code",
      "metadata": {
        "colab": {
          "base_uri": "https://localhost:8080/"
        },
        "id": "-S6B9NyXrmo4",
        "outputId": "7522aec7-7d34-4162-81b2-7c6c5e65837d"
      },
      "source": [
        "device"
      ],
      "execution_count": 150,
      "outputs": [
        {
          "output_type": "execute_result",
          "data": {
            "text/plain": [
              "device(type='cpu')"
            ]
          },
          "metadata": {
            "tags": []
          },
          "execution_count": 150
        }
      ]
    },
    {
      "cell_type": "code",
      "metadata": {
        "id": "su05EPkArneQ"
      },
      "source": [
        "from torch.utils.data import DataLoader,Dataset,TensorDataset"
      ],
      "execution_count": 151,
      "outputs": []
    },
    {
      "cell_type": "code",
      "metadata": {
        "id": "TJ6l24TBrywa"
      },
      "source": [
        "import pandas as pd\n",
        "import numpy as np"
      ],
      "execution_count": 152,
      "outputs": []
    },
    {
      "cell_type": "code",
      "metadata": {
        "colab": {
          "base_uri": "https://localhost:8080/",
          "height": 224
        },
        "id": "GP4mciOMr60V",
        "outputId": "f2c3ede2-fb38-49b1-ec5a-36a9b4fd911c"
      },
      "source": [
        "data = pd.read_csv(\"/content/sample_data/california_housing_test.csv\")\n",
        "data.head()"
      ],
      "execution_count": 153,
      "outputs": [
        {
          "output_type": "execute_result",
          "data": {
            "text/html": [
              "<div>\n",
              "<style scoped>\n",
              "    .dataframe tbody tr th:only-of-type {\n",
              "        vertical-align: middle;\n",
              "    }\n",
              "\n",
              "    .dataframe tbody tr th {\n",
              "        vertical-align: top;\n",
              "    }\n",
              "\n",
              "    .dataframe thead th {\n",
              "        text-align: right;\n",
              "    }\n",
              "</style>\n",
              "<table border=\"1\" class=\"dataframe\">\n",
              "  <thead>\n",
              "    <tr style=\"text-align: right;\">\n",
              "      <th></th>\n",
              "      <th>longitude</th>\n",
              "      <th>latitude</th>\n",
              "      <th>housing_median_age</th>\n",
              "      <th>total_rooms</th>\n",
              "      <th>total_bedrooms</th>\n",
              "      <th>population</th>\n",
              "      <th>households</th>\n",
              "      <th>median_income</th>\n",
              "      <th>median_house_value</th>\n",
              "    </tr>\n",
              "  </thead>\n",
              "  <tbody>\n",
              "    <tr>\n",
              "      <th>0</th>\n",
              "      <td>-122.05</td>\n",
              "      <td>37.37</td>\n",
              "      <td>27.0</td>\n",
              "      <td>3885.0</td>\n",
              "      <td>661.0</td>\n",
              "      <td>1537.0</td>\n",
              "      <td>606.0</td>\n",
              "      <td>6.6085</td>\n",
              "      <td>344700.0</td>\n",
              "    </tr>\n",
              "    <tr>\n",
              "      <th>1</th>\n",
              "      <td>-118.30</td>\n",
              "      <td>34.26</td>\n",
              "      <td>43.0</td>\n",
              "      <td>1510.0</td>\n",
              "      <td>310.0</td>\n",
              "      <td>809.0</td>\n",
              "      <td>277.0</td>\n",
              "      <td>3.5990</td>\n",
              "      <td>176500.0</td>\n",
              "    </tr>\n",
              "    <tr>\n",
              "      <th>2</th>\n",
              "      <td>-117.81</td>\n",
              "      <td>33.78</td>\n",
              "      <td>27.0</td>\n",
              "      <td>3589.0</td>\n",
              "      <td>507.0</td>\n",
              "      <td>1484.0</td>\n",
              "      <td>495.0</td>\n",
              "      <td>5.7934</td>\n",
              "      <td>270500.0</td>\n",
              "    </tr>\n",
              "    <tr>\n",
              "      <th>3</th>\n",
              "      <td>-118.36</td>\n",
              "      <td>33.82</td>\n",
              "      <td>28.0</td>\n",
              "      <td>67.0</td>\n",
              "      <td>15.0</td>\n",
              "      <td>49.0</td>\n",
              "      <td>11.0</td>\n",
              "      <td>6.1359</td>\n",
              "      <td>330000.0</td>\n",
              "    </tr>\n",
              "    <tr>\n",
              "      <th>4</th>\n",
              "      <td>-119.67</td>\n",
              "      <td>36.33</td>\n",
              "      <td>19.0</td>\n",
              "      <td>1241.0</td>\n",
              "      <td>244.0</td>\n",
              "      <td>850.0</td>\n",
              "      <td>237.0</td>\n",
              "      <td>2.9375</td>\n",
              "      <td>81700.0</td>\n",
              "    </tr>\n",
              "  </tbody>\n",
              "</table>\n",
              "</div>"
            ],
            "text/plain": [
              "   longitude  latitude  ...  median_income  median_house_value\n",
              "0    -122.05     37.37  ...         6.6085            344700.0\n",
              "1    -118.30     34.26  ...         3.5990            176500.0\n",
              "2    -117.81     33.78  ...         5.7934            270500.0\n",
              "3    -118.36     33.82  ...         6.1359            330000.0\n",
              "4    -119.67     36.33  ...         2.9375             81700.0\n",
              "\n",
              "[5 rows x 9 columns]"
            ]
          },
          "metadata": {
            "tags": []
          },
          "execution_count": 153
        }
      ]
    },
    {
      "cell_type": "code",
      "metadata": {
        "colab": {
          "base_uri": "https://localhost:8080/",
          "height": 204
        },
        "id": "fI0I3KLKsEZr",
        "outputId": "549a48a0-239b-434d-9033-362aa82f23b9"
      },
      "source": [
        "train_data = data.drop([\"median_house_value\"],axis=1)\n",
        "train_data.head()"
      ],
      "execution_count": 154,
      "outputs": [
        {
          "output_type": "execute_result",
          "data": {
            "text/html": [
              "<div>\n",
              "<style scoped>\n",
              "    .dataframe tbody tr th:only-of-type {\n",
              "        vertical-align: middle;\n",
              "    }\n",
              "\n",
              "    .dataframe tbody tr th {\n",
              "        vertical-align: top;\n",
              "    }\n",
              "\n",
              "    .dataframe thead th {\n",
              "        text-align: right;\n",
              "    }\n",
              "</style>\n",
              "<table border=\"1\" class=\"dataframe\">\n",
              "  <thead>\n",
              "    <tr style=\"text-align: right;\">\n",
              "      <th></th>\n",
              "      <th>longitude</th>\n",
              "      <th>latitude</th>\n",
              "      <th>housing_median_age</th>\n",
              "      <th>total_rooms</th>\n",
              "      <th>total_bedrooms</th>\n",
              "      <th>population</th>\n",
              "      <th>households</th>\n",
              "      <th>median_income</th>\n",
              "    </tr>\n",
              "  </thead>\n",
              "  <tbody>\n",
              "    <tr>\n",
              "      <th>0</th>\n",
              "      <td>-122.05</td>\n",
              "      <td>37.37</td>\n",
              "      <td>27.0</td>\n",
              "      <td>3885.0</td>\n",
              "      <td>661.0</td>\n",
              "      <td>1537.0</td>\n",
              "      <td>606.0</td>\n",
              "      <td>6.6085</td>\n",
              "    </tr>\n",
              "    <tr>\n",
              "      <th>1</th>\n",
              "      <td>-118.30</td>\n",
              "      <td>34.26</td>\n",
              "      <td>43.0</td>\n",
              "      <td>1510.0</td>\n",
              "      <td>310.0</td>\n",
              "      <td>809.0</td>\n",
              "      <td>277.0</td>\n",
              "      <td>3.5990</td>\n",
              "    </tr>\n",
              "    <tr>\n",
              "      <th>2</th>\n",
              "      <td>-117.81</td>\n",
              "      <td>33.78</td>\n",
              "      <td>27.0</td>\n",
              "      <td>3589.0</td>\n",
              "      <td>507.0</td>\n",
              "      <td>1484.0</td>\n",
              "      <td>495.0</td>\n",
              "      <td>5.7934</td>\n",
              "    </tr>\n",
              "    <tr>\n",
              "      <th>3</th>\n",
              "      <td>-118.36</td>\n",
              "      <td>33.82</td>\n",
              "      <td>28.0</td>\n",
              "      <td>67.0</td>\n",
              "      <td>15.0</td>\n",
              "      <td>49.0</td>\n",
              "      <td>11.0</td>\n",
              "      <td>6.1359</td>\n",
              "    </tr>\n",
              "    <tr>\n",
              "      <th>4</th>\n",
              "      <td>-119.67</td>\n",
              "      <td>36.33</td>\n",
              "      <td>19.0</td>\n",
              "      <td>1241.0</td>\n",
              "      <td>244.0</td>\n",
              "      <td>850.0</td>\n",
              "      <td>237.0</td>\n",
              "      <td>2.9375</td>\n",
              "    </tr>\n",
              "  </tbody>\n",
              "</table>\n",
              "</div>"
            ],
            "text/plain": [
              "   longitude  latitude  ...  households  median_income\n",
              "0    -122.05     37.37  ...       606.0         6.6085\n",
              "1    -118.30     34.26  ...       277.0         3.5990\n",
              "2    -117.81     33.78  ...       495.0         5.7934\n",
              "3    -118.36     33.82  ...        11.0         6.1359\n",
              "4    -119.67     36.33  ...       237.0         2.9375\n",
              "\n",
              "[5 rows x 8 columns]"
            ]
          },
          "metadata": {
            "tags": []
          },
          "execution_count": 154
        }
      ]
    },
    {
      "cell_type": "code",
      "metadata": {
        "colab": {
          "base_uri": "https://localhost:8080/",
          "height": 204
        },
        "id": "fVW2FCBk9sqL",
        "outputId": "f2a38b10-f8e7-4776-b721-e4eea2e2906b"
      },
      "source": [
        "# train_data 归一化处理\n",
        "train_data = (train_data - train_data.mean()) / train_data.std()\n",
        "train_data.head()"
      ],
      "execution_count": 155,
      "outputs": [
        {
          "output_type": "execute_result",
          "data": {
            "text/html": [
              "<div>\n",
              "<style scoped>\n",
              "    .dataframe tbody tr th:only-of-type {\n",
              "        vertical-align: middle;\n",
              "    }\n",
              "\n",
              "    .dataframe tbody tr th {\n",
              "        vertical-align: top;\n",
              "    }\n",
              "\n",
              "    .dataframe thead th {\n",
              "        text-align: right;\n",
              "    }\n",
              "</style>\n",
              "<table border=\"1\" class=\"dataframe\">\n",
              "  <thead>\n",
              "    <tr style=\"text-align: right;\">\n",
              "      <th></th>\n",
              "      <th>longitude</th>\n",
              "      <th>latitude</th>\n",
              "      <th>housing_median_age</th>\n",
              "      <th>total_rooms</th>\n",
              "      <th>total_bedrooms</th>\n",
              "      <th>population</th>\n",
              "      <th>households</th>\n",
              "      <th>median_income</th>\n",
              "    </tr>\n",
              "  </thead>\n",
              "  <tbody>\n",
              "    <tr>\n",
              "      <th>0</th>\n",
              "      <td>-1.233523</td>\n",
              "      <td>0.814497</td>\n",
              "      <td>-0.146975</td>\n",
              "      <td>0.596319</td>\n",
              "      <td>0.315284</td>\n",
              "      <td>0.130224</td>\n",
              "      <td>0.317681</td>\n",
              "      <td>1.510494</td>\n",
              "    </tr>\n",
              "    <tr>\n",
              "      <th>1</th>\n",
              "      <td>0.646236</td>\n",
              "      <td>-0.645823</td>\n",
              "      <td>1.127377</td>\n",
              "      <td>-0.505466</td>\n",
              "      <td>-0.529167</td>\n",
              "      <td>-0.576200</td>\n",
              "      <td>-0.582646</td>\n",
              "      <td>-0.112305</td>\n",
              "    </tr>\n",
              "    <tr>\n",
              "      <th>2</th>\n",
              "      <td>0.891858</td>\n",
              "      <td>-0.871210</td>\n",
              "      <td>-0.146975</td>\n",
              "      <td>0.459002</td>\n",
              "      <td>-0.055216</td>\n",
              "      <td>0.078795</td>\n",
              "      <td>0.013924</td>\n",
              "      <td>1.070971</td>\n",
              "    </tr>\n",
              "    <tr>\n",
              "      <th>3</th>\n",
              "      <td>0.616160</td>\n",
              "      <td>-0.852428</td>\n",
              "      <td>-0.067328</td>\n",
              "      <td>-1.174887</td>\n",
              "      <td>-1.238892</td>\n",
              "      <td>-1.313675</td>\n",
              "      <td>-1.310570</td>\n",
              "      <td>1.255656</td>\n",
              "    </tr>\n",
              "    <tr>\n",
              "      <th>4</th>\n",
              "      <td>-0.040503</td>\n",
              "      <td>0.326159</td>\n",
              "      <td>-0.784152</td>\n",
              "      <td>-0.630257</td>\n",
              "      <td>-0.687953</td>\n",
              "      <td>-0.536415</td>\n",
              "      <td>-0.692108</td>\n",
              "      <td>-0.469003</td>\n",
              "    </tr>\n",
              "  </tbody>\n",
              "</table>\n",
              "</div>"
            ],
            "text/plain": [
              "   longitude  latitude  ...  households  median_income\n",
              "0  -1.233523  0.814497  ...    0.317681       1.510494\n",
              "1   0.646236 -0.645823  ...   -0.582646      -0.112305\n",
              "2   0.891858 -0.871210  ...    0.013924       1.070971\n",
              "3   0.616160 -0.852428  ...   -1.310570       1.255656\n",
              "4  -0.040503  0.326159  ...   -0.692108      -0.469003\n",
              "\n",
              "[5 rows x 8 columns]"
            ]
          },
          "metadata": {
            "tags": []
          },
          "execution_count": 155
        }
      ]
    },
    {
      "cell_type": "code",
      "metadata": {
        "colab": {
          "base_uri": "https://localhost:8080/"
        },
        "id": "KAsy9TuIsU3N",
        "outputId": "f2603e78-dfe7-4ebd-942b-46464f2544cd"
      },
      "source": [
        "label_data = data['median_house_value']\n",
        "label_data.head()"
      ],
      "execution_count": 156,
      "outputs": [
        {
          "output_type": "execute_result",
          "data": {
            "text/plain": [
              "0    344700.0\n",
              "1    176500.0\n",
              "2    270500.0\n",
              "3    330000.0\n",
              "4     81700.0\n",
              "Name: median_house_value, dtype: float64"
            ]
          },
          "metadata": {
            "tags": []
          },
          "execution_count": 156
        }
      ]
    },
    {
      "cell_type": "code",
      "metadata": {
        "colab": {
          "base_uri": "https://localhost:8080/"
        },
        "id": "nWoGdzVRszTm",
        "outputId": "369d712e-5e6f-44dd-982f-fba405a1196d"
      },
      "source": [
        "# 转换成numpy格式\n",
        "label_data = label_data.values\n",
        "label_data"
      ],
      "execution_count": 157,
      "outputs": [
        {
          "output_type": "execute_result",
          "data": {
            "text/plain": [
              "array([344700., 176500., 270500., ...,  62000., 162500., 500001.])"
            ]
          },
          "metadata": {
            "tags": []
          },
          "execution_count": 157
        }
      ]
    },
    {
      "cell_type": "code",
      "metadata": {
        "colab": {
          "base_uri": "https://localhost:8080/"
        },
        "id": "EmS_Phv9tWIs",
        "outputId": "270ab653-34f0-45c2-b386-74491d5a9173"
      },
      "source": [
        "train_data = train_data.values\n",
        "train_data"
      ],
      "execution_count": 158,
      "outputs": [
        {
          "output_type": "execute_result",
          "data": {
            "text/plain": [
              "array([[-1.2335231 ,  0.81449726, -0.14697532, ...,  0.1302239 ,\n",
              "         0.31768141,  1.51049365],\n",
              "       [ 0.64623618, -0.64582321,  1.1273772 , ..., -0.57619979,\n",
              "        -0.58264578, -0.11230546],\n",
              "       [ 0.89185805, -0.87121029, -0.14697532, ...,  0.07879471,\n",
              "         0.0139236 ,  1.07097096],\n",
              "       ...,\n",
              "       [-0.05554062,  0.31207189, -1.50097488, ..., -0.68876181,\n",
              "        -0.73862952, -0.81842125],\n",
              "       [ 1.23773376, -0.72095223,  0.8884361 , ..., -1.31658616,\n",
              "        -1.30236022, -0.28927927],\n",
              "       [-0.02045178, -0.57069418,  1.04773017, ..., -0.63054007,\n",
              "        -0.62916725,  2.56322358]])"
            ]
          },
          "metadata": {
            "tags": []
          },
          "execution_count": 158
        }
      ]
    },
    {
      "cell_type": "code",
      "metadata": {
        "id": "fzI7SNK5t_xL"
      },
      "source": [
        "label_data = np.array(label_data,dtype=np.float32)"
      ],
      "execution_count": 159,
      "outputs": []
    },
    {
      "cell_type": "code",
      "metadata": {
        "id": "kJ5zyP0VuBxP"
      },
      "source": [
        "train_data = np.array(train_data,dtype=np.float32)"
      ],
      "execution_count": 160,
      "outputs": []
    },
    {
      "cell_type": "code",
      "metadata": {
        "id": "Mic2PrX6yl63"
      },
      "source": [
        "class DealDataset(Dataset):\n",
        "  def __init__(self,train_data,label_data):\n",
        "    self.train_data = train_data\n",
        "    self.label_data = label_data\n",
        "    self.len = train_data.shape[0]\n",
        "  \n",
        "  def __getitem__(self,index):\n",
        "    return self.train_data[index],self.label_data[index]\n",
        "\n",
        "  def __len__(self):\n",
        "    return self.len"
      ],
      "execution_count": 161,
      "outputs": []
    },
    {
      "cell_type": "code",
      "metadata": {
        "id": "93DM9hmdsdMW"
      },
      "source": [
        "# 提取完成train和label标签,然后通过pytorch相应的工具进行测试集和训练集的数据划分\n",
        "dataloader = DataLoader(dataset=DealDataset(train_data,label_data),batch_size=16,shuffle=True)"
      ],
      "execution_count": 162,
      "outputs": []
    },
    {
      "cell_type": "code",
      "metadata": {
        "id": "3kWWAX-Lsvp9"
      },
      "source": [
        "# 通过逻辑回归预测房价\n",
        "class LogitRegression(torch.nn.Module):\n",
        "  def __init__(self,in_width,out_width=1):\n",
        "    super().__init__()\n",
        "    self.in_width = in_width\n",
        "    self.out_width = out_width\n",
        "    # self.n1 = torch.nn.Linear(in_width,128)\n",
        "    # self.relu = torch.nn.ReLU()\n",
        "    # self.n2 = torch.nn.Linear(128,64)\n",
        "    # self.n3 = torch.nn.Linear(64,out_width)\n",
        "    self.nn = torch.nn.Sequential(\n",
        "        torch.nn.Linear(self.in_width,1024),\n",
        "        torch.nn.ReLU(),\n",
        "        torch.nn.Linear(1024,self.out_width)\n",
        "    )\n",
        "  \n",
        "  def forward(self,x):\n",
        "    # x = self.n1(x)\n",
        "    # x = self.relu(x)\n",
        "    # x = self.n2(x)\n",
        "    # x = self.relu(x)\n",
        "    # x = self.n3(x)\n",
        "    return self.nn(x)"
      ],
      "execution_count": 163,
      "outputs": []
    },
    {
      "cell_type": "code",
      "metadata": {
        "colab": {
          "base_uri": "https://localhost:8080/"
        },
        "id": "tOgC-1Z9w1_I",
        "outputId": "793c9854-7f4d-45a7-8753-9b8e328a66e1"
      },
      "source": [
        "label_data.shape,train_data.shape"
      ],
      "execution_count": 164,
      "outputs": [
        {
          "output_type": "execute_result",
          "data": {
            "text/plain": [
              "((3000,), (3000, 8))"
            ]
          },
          "metadata": {
            "tags": []
          },
          "execution_count": 164
        }
      ]
    },
    {
      "cell_type": "code",
      "metadata": {
        "colab": {
          "base_uri": "https://localhost:8080/"
        },
        "id": "Vklu1vARwxEu",
        "outputId": "13f73864-8d22-4c79-8248-4a548e1bdf68"
      },
      "source": [
        "model = LogitRegression(8,1) # 创建一个神经网络\n",
        "model"
      ],
      "execution_count": 165,
      "outputs": [
        {
          "output_type": "execute_result",
          "data": {
            "text/plain": [
              "LogitRegression(\n",
              "  (nn): Sequential(\n",
              "    (0): Linear(in_features=8, out_features=1024, bias=True)\n",
              "    (1): ReLU()\n",
              "    (2): Linear(in_features=1024, out_features=1, bias=True)\n",
              "  )\n",
              ")"
            ]
          },
          "metadata": {
            "tags": []
          },
          "execution_count": 165
        }
      ]
    },
    {
      "cell_type": "code",
      "metadata": {
        "colab": {
          "base_uri": "https://localhost:8080/"
        },
        "id": "YYPNy6HjxHk4",
        "outputId": "d46d5815-a859-4be6-f460-1cddf4ca58b6"
      },
      "source": [
        "for epoch in range(1):\n",
        "  for i,data in enumerate(dataloader):\n",
        "    inputs,lables = data\n",
        "    print(epoch,i,inputs.data.size(),lables.data.size())"
      ],
      "execution_count": 166,
      "outputs": [
        {
          "output_type": "stream",
          "text": [
            "0 0 torch.Size([16, 8]) torch.Size([16])\n",
            "0 1 torch.Size([16, 8]) torch.Size([16])\n",
            "0 2 torch.Size([16, 8]) torch.Size([16])\n",
            "0 3 torch.Size([16, 8]) torch.Size([16])\n",
            "0 4 torch.Size([16, 8]) torch.Size([16])\n",
            "0 5 torch.Size([16, 8]) torch.Size([16])\n",
            "0 6 torch.Size([16, 8]) torch.Size([16])\n",
            "0 7 torch.Size([16, 8]) torch.Size([16])\n",
            "0 8 torch.Size([16, 8]) torch.Size([16])\n",
            "0 9 torch.Size([16, 8]) torch.Size([16])\n",
            "0 10 torch.Size([16, 8]) torch.Size([16])\n",
            "0 11 torch.Size([16, 8]) torch.Size([16])\n",
            "0 12 torch.Size([16, 8]) torch.Size([16])\n",
            "0 13 torch.Size([16, 8]) torch.Size([16])\n",
            "0 14 torch.Size([16, 8]) torch.Size([16])\n",
            "0 15 torch.Size([16, 8]) torch.Size([16])\n",
            "0 16 torch.Size([16, 8]) torch.Size([16])\n",
            "0 17 torch.Size([16, 8]) torch.Size([16])\n",
            "0 18 torch.Size([16, 8]) torch.Size([16])\n",
            "0 19 torch.Size([16, 8]) torch.Size([16])\n",
            "0 20 torch.Size([16, 8]) torch.Size([16])\n",
            "0 21 torch.Size([16, 8]) torch.Size([16])\n",
            "0 22 torch.Size([16, 8]) torch.Size([16])\n",
            "0 23 torch.Size([16, 8]) torch.Size([16])\n",
            "0 24 torch.Size([16, 8]) torch.Size([16])\n",
            "0 25 torch.Size([16, 8]) torch.Size([16])\n",
            "0 26 torch.Size([16, 8]) torch.Size([16])\n",
            "0 27 torch.Size([16, 8]) torch.Size([16])\n",
            "0 28 torch.Size([16, 8]) torch.Size([16])\n",
            "0 29 torch.Size([16, 8]) torch.Size([16])\n",
            "0 30 torch.Size([16, 8]) torch.Size([16])\n",
            "0 31 torch.Size([16, 8]) torch.Size([16])\n",
            "0 32 torch.Size([16, 8]) torch.Size([16])\n",
            "0 33 torch.Size([16, 8]) torch.Size([16])\n",
            "0 34 torch.Size([16, 8]) torch.Size([16])\n",
            "0 35 torch.Size([16, 8]) torch.Size([16])\n",
            "0 36 torch.Size([16, 8]) torch.Size([16])\n",
            "0 37 torch.Size([16, 8]) torch.Size([16])\n",
            "0 38 torch.Size([16, 8]) torch.Size([16])\n",
            "0 39 torch.Size([16, 8]) torch.Size([16])\n",
            "0 40 torch.Size([16, 8]) torch.Size([16])\n",
            "0 41 torch.Size([16, 8]) torch.Size([16])\n",
            "0 42 torch.Size([16, 8]) torch.Size([16])\n",
            "0 43 torch.Size([16, 8]) torch.Size([16])\n",
            "0 44 torch.Size([16, 8]) torch.Size([16])\n",
            "0 45 torch.Size([16, 8]) torch.Size([16])\n",
            "0 46 torch.Size([16, 8]) torch.Size([16])\n",
            "0 47 torch.Size([16, 8]) torch.Size([16])\n",
            "0 48 torch.Size([16, 8]) torch.Size([16])\n",
            "0 49 torch.Size([16, 8]) torch.Size([16])\n",
            "0 50 torch.Size([16, 8]) torch.Size([16])\n",
            "0 51 torch.Size([16, 8]) torch.Size([16])\n",
            "0 52 torch.Size([16, 8]) torch.Size([16])\n",
            "0 53 torch.Size([16, 8]) torch.Size([16])\n",
            "0 54 torch.Size([16, 8]) torch.Size([16])\n",
            "0 55 torch.Size([16, 8]) torch.Size([16])\n",
            "0 56 torch.Size([16, 8]) torch.Size([16])\n",
            "0 57 torch.Size([16, 8]) torch.Size([16])\n",
            "0 58 torch.Size([16, 8]) torch.Size([16])\n",
            "0 59 torch.Size([16, 8]) torch.Size([16])\n",
            "0 60 torch.Size([16, 8]) torch.Size([16])\n",
            "0 61 torch.Size([16, 8]) torch.Size([16])\n",
            "0 62 torch.Size([16, 8]) torch.Size([16])\n",
            "0 63 torch.Size([16, 8]) torch.Size([16])\n",
            "0 64 torch.Size([16, 8]) torch.Size([16])\n",
            "0 65 torch.Size([16, 8]) torch.Size([16])\n",
            "0 66 torch.Size([16, 8]) torch.Size([16])\n",
            "0 67 torch.Size([16, 8]) torch.Size([16])\n",
            "0 68 torch.Size([16, 8]) torch.Size([16])\n",
            "0 69 torch.Size([16, 8]) torch.Size([16])\n",
            "0 70 torch.Size([16, 8]) torch.Size([16])\n",
            "0 71 torch.Size([16, 8]) torch.Size([16])\n",
            "0 72 torch.Size([16, 8]) torch.Size([16])\n",
            "0 73 torch.Size([16, 8]) torch.Size([16])\n",
            "0 74 torch.Size([16, 8]) torch.Size([16])\n",
            "0 75 torch.Size([16, 8]) torch.Size([16])\n",
            "0 76 torch.Size([16, 8]) torch.Size([16])\n",
            "0 77 torch.Size([16, 8]) torch.Size([16])\n",
            "0 78 torch.Size([16, 8]) torch.Size([16])\n",
            "0 79 torch.Size([16, 8]) torch.Size([16])\n",
            "0 80 torch.Size([16, 8]) torch.Size([16])\n",
            "0 81 torch.Size([16, 8]) torch.Size([16])\n",
            "0 82 torch.Size([16, 8]) torch.Size([16])\n",
            "0 83 torch.Size([16, 8]) torch.Size([16])\n",
            "0 84 torch.Size([16, 8]) torch.Size([16])\n",
            "0 85 torch.Size([16, 8]) torch.Size([16])\n",
            "0 86 torch.Size([16, 8]) torch.Size([16])\n",
            "0 87 torch.Size([16, 8]) torch.Size([16])\n",
            "0 88 torch.Size([16, 8]) torch.Size([16])\n",
            "0 89 torch.Size([16, 8]) torch.Size([16])\n",
            "0 90 torch.Size([16, 8]) torch.Size([16])\n",
            "0 91 torch.Size([16, 8]) torch.Size([16])\n",
            "0 92 torch.Size([16, 8]) torch.Size([16])\n",
            "0 93 torch.Size([16, 8]) torch.Size([16])\n",
            "0 94 torch.Size([16, 8]) torch.Size([16])\n",
            "0 95 torch.Size([16, 8]) torch.Size([16])\n",
            "0 96 torch.Size([16, 8]) torch.Size([16])\n",
            "0 97 torch.Size([16, 8]) torch.Size([16])\n",
            "0 98 torch.Size([16, 8]) torch.Size([16])\n",
            "0 99 torch.Size([16, 8]) torch.Size([16])\n",
            "0 100 torch.Size([16, 8]) torch.Size([16])\n",
            "0 101 torch.Size([16, 8]) torch.Size([16])\n",
            "0 102 torch.Size([16, 8]) torch.Size([16])\n",
            "0 103 torch.Size([16, 8]) torch.Size([16])\n",
            "0 104 torch.Size([16, 8]) torch.Size([16])\n",
            "0 105 torch.Size([16, 8]) torch.Size([16])\n",
            "0 106 torch.Size([16, 8]) torch.Size([16])\n",
            "0 107 torch.Size([16, 8]) torch.Size([16])\n",
            "0 108 torch.Size([16, 8]) torch.Size([16])\n",
            "0 109 torch.Size([16, 8]) torch.Size([16])\n",
            "0 110 torch.Size([16, 8]) torch.Size([16])\n",
            "0 111 torch.Size([16, 8]) torch.Size([16])\n",
            "0 112 torch.Size([16, 8]) torch.Size([16])\n",
            "0 113 torch.Size([16, 8]) torch.Size([16])\n",
            "0 114 torch.Size([16, 8]) torch.Size([16])\n",
            "0 115 torch.Size([16, 8]) torch.Size([16])\n",
            "0 116 torch.Size([16, 8]) torch.Size([16])\n",
            "0 117 torch.Size([16, 8]) torch.Size([16])\n",
            "0 118 torch.Size([16, 8]) torch.Size([16])\n",
            "0 119 torch.Size([16, 8]) torch.Size([16])\n",
            "0 120 torch.Size([16, 8]) torch.Size([16])\n",
            "0 121 torch.Size([16, 8]) torch.Size([16])\n",
            "0 122 torch.Size([16, 8]) torch.Size([16])\n",
            "0 123 torch.Size([16, 8]) torch.Size([16])\n",
            "0 124 torch.Size([16, 8]) torch.Size([16])\n",
            "0 125 torch.Size([16, 8]) torch.Size([16])\n",
            "0 126 torch.Size([16, 8]) torch.Size([16])\n",
            "0 127 torch.Size([16, 8]) torch.Size([16])\n",
            "0 128 torch.Size([16, 8]) torch.Size([16])\n",
            "0 129 torch.Size([16, 8]) torch.Size([16])\n",
            "0 130 torch.Size([16, 8]) torch.Size([16])\n",
            "0 131 torch.Size([16, 8]) torch.Size([16])\n",
            "0 132 torch.Size([16, 8]) torch.Size([16])\n",
            "0 133 torch.Size([16, 8]) torch.Size([16])\n",
            "0 134 torch.Size([16, 8]) torch.Size([16])\n",
            "0 135 torch.Size([16, 8]) torch.Size([16])\n",
            "0 136 torch.Size([16, 8]) torch.Size([16])\n",
            "0 137 torch.Size([16, 8]) torch.Size([16])\n",
            "0 138 torch.Size([16, 8]) torch.Size([16])\n",
            "0 139 torch.Size([16, 8]) torch.Size([16])\n",
            "0 140 torch.Size([16, 8]) torch.Size([16])\n",
            "0 141 torch.Size([16, 8]) torch.Size([16])\n",
            "0 142 torch.Size([16, 8]) torch.Size([16])\n",
            "0 143 torch.Size([16, 8]) torch.Size([16])\n",
            "0 144 torch.Size([16, 8]) torch.Size([16])\n",
            "0 145 torch.Size([16, 8]) torch.Size([16])\n",
            "0 146 torch.Size([16, 8]) torch.Size([16])\n",
            "0 147 torch.Size([16, 8]) torch.Size([16])\n",
            "0 148 torch.Size([16, 8]) torch.Size([16])\n",
            "0 149 torch.Size([16, 8]) torch.Size([16])\n",
            "0 150 torch.Size([16, 8]) torch.Size([16])\n",
            "0 151 torch.Size([16, 8]) torch.Size([16])\n",
            "0 152 torch.Size([16, 8]) torch.Size([16])\n",
            "0 153 torch.Size([16, 8]) torch.Size([16])\n",
            "0 154 torch.Size([16, 8]) torch.Size([16])\n",
            "0 155 torch.Size([16, 8]) torch.Size([16])\n",
            "0 156 torch.Size([16, 8]) torch.Size([16])\n",
            "0 157 torch.Size([16, 8]) torch.Size([16])\n",
            "0 158 torch.Size([16, 8]) torch.Size([16])\n",
            "0 159 torch.Size([16, 8]) torch.Size([16])\n",
            "0 160 torch.Size([16, 8]) torch.Size([16])\n",
            "0 161 torch.Size([16, 8]) torch.Size([16])\n",
            "0 162 torch.Size([16, 8]) torch.Size([16])\n",
            "0 163 torch.Size([16, 8]) torch.Size([16])\n",
            "0 164 torch.Size([16, 8]) torch.Size([16])\n",
            "0 165 torch.Size([16, 8]) torch.Size([16])\n",
            "0 166 torch.Size([16, 8]) torch.Size([16])\n",
            "0 167 torch.Size([16, 8]) torch.Size([16])\n",
            "0 168 torch.Size([16, 8]) torch.Size([16])\n",
            "0 169 torch.Size([16, 8]) torch.Size([16])\n",
            "0 170 torch.Size([16, 8]) torch.Size([16])\n",
            "0 171 torch.Size([16, 8]) torch.Size([16])\n",
            "0 172 torch.Size([16, 8]) torch.Size([16])\n",
            "0 173 torch.Size([16, 8]) torch.Size([16])\n",
            "0 174 torch.Size([16, 8]) torch.Size([16])\n",
            "0 175 torch.Size([16, 8]) torch.Size([16])\n",
            "0 176 torch.Size([16, 8]) torch.Size([16])\n",
            "0 177 torch.Size([16, 8]) torch.Size([16])\n",
            "0 178 torch.Size([16, 8]) torch.Size([16])\n",
            "0 179 torch.Size([16, 8]) torch.Size([16])\n",
            "0 180 torch.Size([16, 8]) torch.Size([16])\n",
            "0 181 torch.Size([16, 8]) torch.Size([16])\n",
            "0 182 torch.Size([16, 8]) torch.Size([16])\n",
            "0 183 torch.Size([16, 8]) torch.Size([16])\n",
            "0 184 torch.Size([16, 8]) torch.Size([16])\n",
            "0 185 torch.Size([16, 8]) torch.Size([16])\n",
            "0 186 torch.Size([16, 8]) torch.Size([16])\n",
            "0 187 torch.Size([8, 8]) torch.Size([8])\n"
          ],
          "name": "stdout"
        }
      ]
    },
    {
      "cell_type": "code",
      "metadata": {
        "id": "N2hUmG-ixr3o"
      },
      "source": [
        "# 上面的迭代测试通过,下面定义loss函数和optimizer\n",
        "optimizer = torch.optim.Adam(model.parameters(),lr=0.1) # 其他保持默认参数"
      ],
      "execution_count": 167,
      "outputs": []
    },
    {
      "cell_type": "code",
      "metadata": {
        "id": "yEyn4_A90pEm"
      },
      "source": [
        "loss_fn = torch.nn.MSELoss()"
      ],
      "execution_count": 168,
      "outputs": []
    },
    {
      "cell_type": "code",
      "metadata": {
        "colab": {
          "base_uri": "https://localhost:8080/"
        },
        "id": "ZP9KBooX0umM",
        "outputId": "aa0069ff-9032-4578-c3cf-e800923a3b53"
      },
      "source": [
        "for epoch in range(10):\n",
        "  for i,data in enumerate(dataloader):\n",
        "    x_data,x_label = data\n",
        "    optimizer.zero_grad()\n",
        "    y_label = model(x_data)\n",
        "    # print(x_label.reshape(-1,1))\n",
        "    # print(y_label)\n",
        "    # print(x_label.shape,y_label.shape)\n",
        "    # print(y_label - x_label)\n",
        "    # print(type(y_label),type(x_label))\n",
        "    # break;\n",
        "    loss = loss_fn(y_label,x_label.reshape(-1,1))\n",
        "    loss.backward()\n",
        "    optimizer.step()\n",
        "    if i% 1000 == 0:\n",
        "      print(epoch,i,loss.item())"
      ],
      "execution_count": 169,
      "outputs": [
        {
          "output_type": "stream",
          "text": [
            "0 0 37970817024.0\n",
            "1 0 16417343488.0\n",
            "2 0 3258121984.0\n",
            "3 0 9106311168.0\n",
            "4 0 3530854912.0\n",
            "5 0 6031241728.0\n",
            "6 0 1882214400.0\n",
            "7 0 2321033984.0\n",
            "8 0 3433014016.0\n",
            "9 0 2535810816.0\n"
          ],
          "name": "stdout"
        }
      ]
    },
    {
      "cell_type": "code",
      "metadata": {
        "id": "DLqq5-Cq1W0_"
      },
      "source": [
        ""
      ],
      "execution_count": 169,
      "outputs": []
    }
  ]
}