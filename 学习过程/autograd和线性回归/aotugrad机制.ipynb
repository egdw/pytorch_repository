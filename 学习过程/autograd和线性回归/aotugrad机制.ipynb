{
  "nbformat": 4,
  "nbformat_minor": 0,
  "metadata": {
    "colab": {
      "name": "aotugrad机制.ipynb",
      "provenance": [],
      "collapsed_sections": []
    },
    "kernelspec": {
      "name": "python3",
      "display_name": "Python 3"
    }
  },
  "cells": [
    {
      "cell_type": "code",
      "metadata": {
        "id": "1OmvPsriQVgy"
      },
      "source": [
        "import torch"
      ],
      "execution_count": 112,
      "outputs": []
    },
    {
      "cell_type": "code",
      "metadata": {
        "id": "i6OX_KMJRMAh"
      },
      "source": [
        "x = torch.rand(1)\n",
        "b = torch.rand(1,requires_grad=True)\n",
        "w = torch.rand(1,requires_grad=True)\n",
        "y = w * x\n",
        "z = y + b"
      ],
      "execution_count": 113,
      "outputs": []
    },
    {
      "cell_type": "code",
      "metadata": {
        "colab": {
          "base_uri": "https://localhost:8080/"
        },
        "id": "OrQ0T__rRnw-",
        "outputId": "701fd147-d64a-4c41-c8d3-e42fe220b1e5"
      },
      "source": [
        "x.requires_grad,b.requires_grad,w.requires_grad,y.requires_grad,z.requires_grad"
      ],
      "execution_count": 114,
      "outputs": [
        {
          "output_type": "execute_result",
          "data": {
            "text/plain": [
              "(False, True, True, True, True)"
            ]
          },
          "metadata": {
            "tags": []
          },
          "execution_count": 114
        }
      ]
    },
    {
      "cell_type": "code",
      "metadata": {
        "colab": {
          "base_uri": "https://localhost:8080/"
        },
        "id": "-0ScCtK5RraJ",
        "outputId": "8fe4334d-e547-43ca-ebca-b644dee9cc0c"
      },
      "source": [
        "x.is_leaf,w.is_leaf,y.is_leaf,z.is_leaf,b.is_leaf #判断是否是叶子节点"
      ],
      "execution_count": 115,
      "outputs": [
        {
          "output_type": "execute_result",
          "data": {
            "text/plain": [
              "(True, True, False, False, True)"
            ]
          },
          "metadata": {
            "tags": []
          },
          "execution_count": 115
        }
      ]
    },
    {
      "cell_type": "code",
      "metadata": {
        "id": "96ELw6KJR8nh"
      },
      "source": [
        "# 反向传播计算\n",
        "z.backward(retain_graph=True) # 如果不清空会累加起来"
      ],
      "execution_count": 116,
      "outputs": []
    },
    {
      "cell_type": "code",
      "metadata": {
        "colab": {
          "base_uri": "https://localhost:8080/"
        },
        "id": "IrFQ7fIMSNGi",
        "outputId": "6c7f83a5-acfd-46ac-bfbf-c4a9dfb62cf6"
      },
      "source": [
        "w.grad,b.grad"
      ],
      "execution_count": 117,
      "outputs": [
        {
          "output_type": "execute_result",
          "data": {
            "text/plain": [
              "(tensor([0.5380]), tensor([1.]))"
            ]
          },
          "metadata": {
            "tags": []
          },
          "execution_count": 117
        }
      ]
    },
    {
      "cell_type": "code",
      "metadata": {
        "id": "K6lR4P3oS_bW"
      },
      "source": [
        "import numpy as np"
      ],
      "execution_count": 118,
      "outputs": []
    },
    {
      "cell_type": "code",
      "metadata": {
        "colab": {
          "base_uri": "https://localhost:8080/"
        },
        "id": "6mEccJN2SOUo",
        "outputId": "52652e01-d505-4a0a-de59-316dafba6fbd"
      },
      "source": [
        "# 线性回归\n",
        "x_values = [i for i in range(11)]\n",
        "x_train = np.array(x_values,dtype=np.float32) \n",
        "x_train = x_train.reshape(-1,1) # norm\n",
        "x_train.shape"
      ],
      "execution_count": 119,
      "outputs": [
        {
          "output_type": "execute_result",
          "data": {
            "text/plain": [
              "(11, 1)"
            ]
          },
          "metadata": {
            "tags": []
          },
          "execution_count": 119
        }
      ]
    },
    {
      "cell_type": "code",
      "metadata": {
        "colab": {
          "base_uri": "https://localhost:8080/"
        },
        "id": "th5Yt9RcTMfn",
        "outputId": "22b944af-acf7-4d91-9d75-a0b6768f4c8e"
      },
      "source": [
        "y_values = [2*i for i in range(11)]\n",
        "y_train = np.array(y_values,dtype=np.float32)\n",
        "y_train = y_train.reshape(-1,1)\n",
        "y_train.shape"
      ],
      "execution_count": 120,
      "outputs": [
        {
          "output_type": "execute_result",
          "data": {
            "text/plain": [
              "(11, 1)"
            ]
          },
          "metadata": {
            "tags": []
          },
          "execution_count": 120
        }
      ]
    },
    {
      "cell_type": "code",
      "metadata": {
        "colab": {
          "base_uri": "https://localhost:8080/"
        },
        "id": "5DqqVplgTdp9",
        "outputId": "2f16bc74-5e8a-403b-8d06-97ff5b038a1b"
      },
      "source": [
        "x_train,y_train"
      ],
      "execution_count": 121,
      "outputs": [
        {
          "output_type": "execute_result",
          "data": {
            "text/plain": [
              "(array([[ 0.],\n",
              "        [ 1.],\n",
              "        [ 2.],\n",
              "        [ 3.],\n",
              "        [ 4.],\n",
              "        [ 5.],\n",
              "        [ 6.],\n",
              "        [ 7.],\n",
              "        [ 8.],\n",
              "        [ 9.],\n",
              "        [10.]], dtype=float32), array([[ 0.],\n",
              "        [ 2.],\n",
              "        [ 4.],\n",
              "        [ 6.],\n",
              "        [ 8.],\n",
              "        [10.],\n",
              "        [12.],\n",
              "        [14.],\n",
              "        [16.],\n",
              "        [18.],\n",
              "        [20.]], dtype=float32))"
            ]
          },
          "metadata": {
            "tags": []
          },
          "execution_count": 121
        }
      ]
    },
    {
      "cell_type": "code",
      "metadata": {
        "id": "AUXYo9FqTGeW"
      },
      "source": [
        "import torch\n",
        "import torch.nn as nn"
      ],
      "execution_count": 122,
      "outputs": []
    },
    {
      "cell_type": "code",
      "metadata": {
        "id": "ZJMZ9CVRTKxn"
      },
      "source": [
        "class LinearRegressionModel(nn.Module):\n",
        "\n",
        "  def __init__(self,input_dim,output_dim):\n",
        "    super(LinearRegressionModel,self).__init__()\n",
        "    self.linear = nn.Linear(input_dim,output_dim)\n",
        "\n",
        "  def forward(self,x):\n",
        "    out = self.linear(x)\n",
        "    return out"
      ],
      "execution_count": 123,
      "outputs": []
    },
    {
      "cell_type": "code",
      "metadata": {
        "id": "MxXPSOKHT74N"
      },
      "source": [
        "input_dim = 1\n",
        "output_dim = 1\n",
        "model = LinearRegressionModel(input_dim,output_dim) #create model"
      ],
      "execution_count": 124,
      "outputs": []
    },
    {
      "cell_type": "code",
      "metadata": {
        "colab": {
          "base_uri": "https://localhost:8080/"
        },
        "id": "9EgWmOJ3UbDB",
        "outputId": "f87e4531-abaa-4a89-d72f-add2b3aede9e"
      },
      "source": [
        "model"
      ],
      "execution_count": 125,
      "outputs": [
        {
          "output_type": "execute_result",
          "data": {
            "text/plain": [
              "LinearRegressionModel(\n",
              "  (linear): Linear(in_features=1, out_features=1, bias=True)\n",
              ")"
            ]
          },
          "metadata": {
            "tags": []
          },
          "execution_count": 125
        }
      ]
    },
    {
      "cell_type": "code",
      "metadata": {
        "id": "dttnE7o7UBgP"
      },
      "source": [
        "epoches = 0 # iterator 1000\n",
        "lr = 0.001\n",
        "optimizer = torch.optim.Adam(model.parameters(),lr=lr)\n",
        "criterion = nn.MSELoss()"
      ],
      "execution_count": 126,
      "outputs": []
    },
    {
      "cell_type": "code",
      "metadata": {
        "colab": {
          "base_uri": "https://localhost:8080/"
        },
        "id": "uUlK_jyvUilg",
        "outputId": "8c9d72da-a99d-41d8-8d84-17fa0d186707"
      },
      "source": [
        "while True:\n",
        "  epoches+=1\n",
        "  inputs = torch.from_numpy(x_train)\n",
        "  labels = torch.from_numpy(y_train)\n",
        "  optimizer.zero_grad() # clean grad\n",
        "\n",
        "  out = model(inputs)\n",
        "\n",
        "  # get loss function\n",
        "  loss = criterion(out,labels)\n",
        "  loss.backward()\n",
        "\n",
        "  # update weights\n",
        "  optimizer.step()\n",
        "  if epoches % 100 == 0:\n",
        "    print('epoch {}, loss {}'.format(epoches, loss.item()))\n",
        "  if epoches > 10000:\n",
        "    break"
      ],
      "execution_count": 127,
      "outputs": [
        {
          "output_type": "stream",
          "text": [
            "epoch 100, loss 104.87847137451172\n",
            "epoch 200, loss 91.9978256225586\n",
            "epoch 300, loss 80.34309387207031\n",
            "epoch 400, loss 69.83487701416016\n",
            "epoch 500, loss 60.396793365478516\n",
            "epoch 600, loss 51.955257415771484\n",
            "epoch 700, loss 44.43929672241211\n",
            "epoch 800, loss 37.780357360839844\n",
            "epoch 900, loss 31.912353515625\n",
            "epoch 1000, loss 26.77142333984375\n",
            "epoch 1100, loss 22.29595947265625\n",
            "epoch 1200, loss 18.426599502563477\n",
            "epoch 1300, loss 15.10617733001709\n",
            "epoch 1400, loss 12.279837608337402\n",
            "epoch 1500, loss 9.895108222961426\n",
            "epoch 1600, loss 7.902050495147705\n",
            "epoch 1700, loss 6.253365993499756\n",
            "epoch 1800, loss 4.904572010040283\n",
            "epoch 1900, loss 3.814194440841675\n",
            "epoch 2000, loss 2.9438958168029785\n",
            "epoch 2100, loss 2.2586803436279297\n",
            "epoch 2200, loss 1.7269248962402344\n",
            "epoch 2300, loss 1.3205184936523438\n",
            "epoch 2400, loss 1.014818787574768\n",
            "epoch 2500, loss 0.7886104583740234\n",
            "epoch 2600, loss 0.62396240234375\n",
            "epoch 2700, loss 0.506018877029419\n",
            "epoch 2800, loss 0.422750860452652\n",
            "epoch 2900, loss 0.36462152004241943\n",
            "epoch 3000, loss 0.32427048683166504\n",
            "epoch 3100, loss 0.2961559593677521\n",
            "epoch 3200, loss 0.27621835470199585\n",
            "epoch 3300, loss 0.26157379150390625\n",
            "epoch 3400, loss 0.25023153424263\n",
            "epoch 3500, loss 0.24086327850818634\n",
            "epoch 3600, loss 0.23261143267154694\n",
            "epoch 3700, loss 0.22494640946388245\n",
            "epoch 3800, loss 0.2175494283437729\n",
            "epoch 3900, loss 0.21024268865585327\n",
            "epoch 4000, loss 0.20293103158473969\n",
            "epoch 4100, loss 0.19557057321071625\n",
            "epoch 4200, loss 0.1881455034017563\n",
            "epoch 4300, loss 0.18065668642520905\n",
            "epoch 4400, loss 0.17311248183250427\n",
            "epoch 4500, loss 0.16552624106407166\n",
            "epoch 4600, loss 0.15791457891464233\n",
            "epoch 4700, loss 0.15029560029506683\n",
            "epoch 4800, loss 0.14268849790096283\n",
            "epoch 4900, loss 0.1351129412651062\n",
            "epoch 5000, loss 0.12759028375148773\n",
            "epoch 5100, loss 0.1201411709189415\n",
            "epoch 5200, loss 0.11278767883777618\n",
            "epoch 5300, loss 0.10555122047662735\n",
            "epoch 5400, loss 0.09845320880413055\n",
            "epoch 5500, loss 0.09151513874530792\n",
            "epoch 5600, loss 0.08475785702466965\n",
            "epoch 5700, loss 0.07820116728544235\n",
            "epoch 5800, loss 0.07186445593833923\n",
            "epoch 5900, loss 0.06576523184776306\n",
            "epoch 6000, loss 0.0599190816283226\n",
            "epoch 6100, loss 0.05434185639023781\n",
            "epoch 6200, loss 0.04904729500412941\n",
            "epoch 6300, loss 0.044043418020009995\n",
            "epoch 6400, loss 0.03933987393975258\n",
            "epoch 6500, loss 0.03494223952293396\n",
            "epoch 6600, loss 0.030854083597660065\n",
            "epoch 6700, loss 0.027076315134763718\n",
            "epoch 6800, loss 0.023607008159160614\n",
            "epoch 6900, loss 0.02044208161532879\n",
            "epoch 7000, loss 0.017574522644281387\n",
            "epoch 7100, loss 0.014995322562754154\n",
            "epoch 7200, loss 0.012693184427917004\n",
            "epoch 7300, loss 0.010654699988663197\n",
            "epoch 7400, loss 0.008864917792379856\n",
            "epoch 7500, loss 0.007307604420930147\n",
            "epoch 7600, loss 0.005965149030089378\n",
            "epoch 7700, loss 0.004819326568394899\n",
            "epoch 7800, loss 0.003851501736789942\n",
            "epoch 7900, loss 0.0030429603066295385\n",
            "epoch 8000, loss 0.0023753466084599495\n",
            "epoch 8100, loss 0.0018307502614334226\n",
            "epoch 8200, loss 0.0013922507641837\n",
            "epoch 8300, loss 0.0010438960744068027\n",
            "epoch 8400, loss 0.0007711429498158395\n",
            "epoch 8500, loss 0.0005607800558209419\n",
            "epoch 8600, loss 0.0004011219134554267\n",
            "epoch 8700, loss 0.00028195916092954576\n",
            "epoch 8800, loss 0.0001945901312865317\n",
            "epoch 8900, loss 0.00013172706530895084\n",
            "epoch 9000, loss 8.737029565963894e-05\n",
            "epoch 9100, loss 5.671269173035398e-05\n",
            "epoch 9200, loss 3.599380579544231e-05\n",
            "epoch 9300, loss 2.230157406302169e-05\n",
            "epoch 9400, loss 1.3476807907863986e-05\n",
            "epoch 9500, loss 7.930710125947371e-06\n",
            "epoch 9600, loss 4.537807853921549e-06\n",
            "epoch 9700, loss 2.521440819691634e-06\n",
            "epoch 9800, loss 1.3584830185209285e-06\n",
            "epoch 9900, loss 7.08769221091643e-07\n",
            "epoch 10000, loss 3.577542884158902e-07\n"
          ],
          "name": "stdout"
        }
      ]
    },
    {
      "cell_type": "code",
      "metadata": {
        "colab": {
          "base_uri": "https://localhost:8080/"
        },
        "id": "gxZuksPJVNVB",
        "outputId": "77a15a88-e29c-48da-8c5b-e23734875aee"
      },
      "source": [
        "data = np.array([[1,2,3,4,5,6,7,8,9,0]],dtype=np.float32)\n",
        "print(data.shape)\n",
        "data = data.reshape(-1,1)\n",
        "print(data.shape)\n",
        "predicted = model(torch.from_numpy(data))\n",
        "print(predicted)"
      ],
      "execution_count": 137,
      "outputs": [
        {
          "output_type": "stream",
          "text": [
            "(1, 10)\n",
            "(10, 1)\n",
            "tensor([[2.0009e+00],\n",
            "        [4.0008e+00],\n",
            "        [6.0006e+00],\n",
            "        [8.0004e+00],\n",
            "        [1.0000e+01],\n",
            "        [1.2000e+01],\n",
            "        [1.4000e+01],\n",
            "        [1.6000e+01],\n",
            "        [1.8000e+01],\n",
            "        [1.1074e-03]], grad_fn=<AddmmBackward>)\n"
          ],
          "name": "stdout"
        }
      ]
    },
    {
      "cell_type": "code",
      "metadata": {
        "colab": {
          "base_uri": "https://localhost:8080/"
        },
        "id": "0npab1TXXdFH",
        "outputId": "028e617b-6d8b-4d94-9bae-659847b7c407"
      },
      "source": [
        "data"
      ],
      "execution_count": 130,
      "outputs": [
        {
          "output_type": "execute_result",
          "data": {
            "text/plain": [
              "array([[1.]], dtype=float32)"
            ]
          },
          "metadata": {
            "tags": []
          },
          "execution_count": 130
        }
      ]
    },
    {
      "cell_type": "code",
      "metadata": {
        "id": "HrwLXG9QXfVd"
      },
      "source": [
        ""
      ],
      "execution_count": 130,
      "outputs": []
    }
  ]
}