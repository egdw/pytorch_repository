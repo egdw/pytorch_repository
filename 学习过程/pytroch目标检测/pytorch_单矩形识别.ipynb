{
  "nbformat": 4,
  "nbformat_minor": 0,
  "metadata": {
    "colab": {
      "name": "pytorch_单矩形识别.ipynb",
      "provenance": [],
      "collapsed_sections": []
    },
    "kernelspec": {
      "name": "python3",
      "display_name": "Python 3"
    },
    "accelerator": "GPU"
  },
  "cells": [
    {
      "cell_type": "code",
      "metadata": {
        "id": "-amn_FxcvJIz"
      },
      "source": [
        "import torch\n",
        "import torch.nn as nn\n",
        "import numpy as np\n",
        "import pandas as pd\n",
        "import matplotlib.pyplot as plt\n",
        "import matplotlib"
      ],
      "execution_count": 333,
      "outputs": []
    },
    {
      "cell_type": "markdown",
      "metadata": {
        "id": "dxIzUBLnwH10"
      },
      "source": [
        "# 定义基本的配置参数"
      ]
    },
    {
      "cell_type": "code",
      "metadata": {
        "id": "FsnA1q_Zviid"
      },
      "source": [
        "# 定义生成矩形图片的数量\n",
        "num_rect = 3000\n",
        "# 定义图片的大小\n",
        "size = 10\n",
        "# 定义最小物体的大小\n",
        "min_obj_size = 1\n",
        "# 定义最大物体的大小\n",
        "max_obj_size = 5\n",
        "# 定义图片中物体的数量\n",
        "obj_nums = 1 # 暂定为1"
      ],
      "execution_count": 334,
      "outputs": []
    },
    {
      "cell_type": "markdown",
      "metadata": {
        "id": "yNWAb4zLwLNV"
      },
      "source": [
        "# 测试生成随机矩形数据"
      ]
    },
    {
      "cell_type": "code",
      "metadata": {
        "colab": {
          "base_uri": "https://localhost:8080/",
          "height": 286
        },
        "id": "aDJvc7gWvrSx",
        "outputId": "a615beb6-139a-4768-f0a9-42f554c0a297"
      },
      "source": [
        "obj_width = np.random.randint(1,max_obj_size+1,size=1) # 生成随机的宽\n",
        "obj_height = np.random.randint(1,max_obj_size+1,size=1) # 生成随机的高\n",
        "obj_x = np.random.randint(0,size) #生成随机的x\n",
        "obj_y = np.random.randint(0,size) #生成随机的y\n",
        "\n",
        "obj_x2 = 0\n",
        "obj_y2 = 0\n",
        "# 进行判断,判断是放在左下角 \\ 右下角 \\左上角 \\ 右上角 因为随机生成的矩形有可能会超出边界,这个时候需要进行判断\n",
        "if obj_x + obj_width < size and obj_y + obj_height < size: # 右上角\n",
        "  obj_x2 = obj_x + obj_width\n",
        "  obj_y2 = obj_y + obj_height\n",
        "elif obj_x + obj_width < size and obj_y - obj_height >= 0: # 右下角\n",
        "  obj_x2 = obj_x + obj_width\n",
        "  obj_y2 = obj_y - obj_height\n",
        "  obj_height = 0 - obj_height\n",
        "elif obj_x - obj_width >= 0 and obj_y + obj_height < size: # 左上角\n",
        "  obj_x2 = obj_x - obj_width\n",
        "  obj_y2 = obj_y + obj_height\n",
        "  obj_width = 0 - obj_width\n",
        "elif obj_x - obj_width >=0 and obj_y - obj_height >= 0: # 左下角\n",
        "  obj_x2 = obj_x - obj_width\n",
        "  obj_y2 = obj_y - obj_height\n",
        "  obj_width = 0 - obj_width\n",
        "  obj_height = 0 - obj_height\n",
        "else:\n",
        "  print(\"生成错误!!!\")\n",
        "\n",
        "\n",
        "# 尝试画出这个矩形\n",
        "fig = plt.figure()\n",
        "ax1 = fig.add_subplot(111, aspect='equal')\n",
        "plt.xlim(0, size)\n",
        "plt.ylim(0, size)\n",
        "ax1.add_patch(matplotlib.patches.Rectangle((obj_x, obj_y), obj_width, obj_height, ec='r',color='maroon'))\n",
        "plt.show()\n",
        "obj_x,obj_y,obj_x2,obj_y2,obj_width,obj_height # 理论上这个应该是正确的图像"
      ],
      "execution_count": 335,
      "outputs": [
        {
          "output_type": "display_data",
          "data": {
            "image/png": "[encoded data removed]",
            "text/plain": [
              "<Figure size 432x288 with 1 Axes>"
            ]
          },
          "metadata": {
            "tags": [],
            "needs_background": "light"
          }
        },
        {
          "output_type": "execute_result",
          "data": {
            "text/plain": [
              "(9, 7, array([5]), array([9]), array([-4]), array([2]))"
            ]
          },
          "metadata": {
            "tags": []
          },
          "execution_count": 335
        }
      ]
    },
    {
      "cell_type": "markdown",
      "metadata": {
        "id": "Dt23eV_z_JlQ"
      },
      "source": [
        "# 批量生成测试数据,然后划分训练集和验证集"
      ]
    },
    {
      "cell_type": "code",
      "metadata": {
        "id": "cN5Bn9ukzN8x"
      },
      "source": [
        "datas = np.zeros((num_rect,size,size)) # 存放所有的图片信息\n",
        "labels = np.zeros((num_rect,4)) # 存放所有的坐标信息\n",
        "width_heights = np.zeros((num_rect,2))\n",
        "for i in range(num_rect):\n",
        "  obj_width = np.random.randint(1,max_obj_size+1,size=1) # 生成随机的宽\n",
        "  obj_height = np.random.randint(1,max_obj_size+1,size=1) # 生成随机的高\n",
        "  obj_x = np.random.randint(0,size) #生成随机的x\n",
        "  obj_y = np.random.randint(0,size) #生成随机的y\n",
        "\n",
        "  obj_x2 = 0\n",
        "  obj_y2 = 0\n",
        "  # 进行判断,判断是放在左下角 \\ 右下角 \\左上角 \\ 右上角 因为随机生成的矩形有可能会超出边界,这个时候需要进行判断\n",
        "  if obj_x + obj_width < size and obj_y + obj_height < size: # 右上角\n",
        "    obj_x2 = obj_x + obj_width\n",
        "    obj_y2 = obj_y + obj_height\n",
        "  elif obj_x + obj_width < size and obj_y - obj_height >= 0: # 右下角\n",
        "    obj_x2 = obj_x + obj_width\n",
        "    obj_y2 = obj_y - obj_height\n",
        "    obj_height = 0 - obj_height\n",
        "  elif obj_x - obj_width >= 0 and obj_y + obj_height < size: # 左上角\n",
        "    obj_x2 = obj_x - obj_width\n",
        "    obj_y2 = obj_y + obj_height\n",
        "    obj_width = 0 - obj_width\n",
        "  elif obj_x - obj_width >=0 and obj_y - obj_height >= 0: # 左下角\n",
        "    obj_x2 = obj_x - obj_width\n",
        "    obj_y2 = obj_y - obj_height\n",
        "    obj_width = 0 - obj_width\n",
        "    obj_height = 0 - obj_height\n",
        "  else:\n",
        "    print(\"生成矩形错误!!!\")\n",
        "    break;\n",
        "  labels[i] = [obj_x,obj_y,obj_x2[0],obj_y2[0]]\n",
        "  width_heights[i] = [obj_width[0],obj_height[0]]\n",
        "  temp_x = 0\n",
        "  temp_x2 = 0\n",
        "  temp_y =0 \n",
        "  temp_y2 =0\n",
        "  if obj_x < obj_x2[0]:\n",
        "    temp_x = obj_x\n",
        "    temp_x2 = obj_x2[0]\n",
        "  else:\n",
        "    temp_x = obj_x2[0]\n",
        "    temp_x2 = obj_x\n",
        "  if obj_y < obj_y2[0]:\n",
        "    temp_y = obj_y\n",
        "    temp_y2 = obj_y2[0]\n",
        "  else:\n",
        "    temp_y = obj_y2[0]\n",
        "    temp_y2 = obj_y\n",
        "  datas[i,temp_x:temp_x2,temp_y:temp_y2] = 1"
      ],
      "execution_count": 336,
      "outputs": []
    },
    {
      "cell_type": "code",
      "metadata": {
        "colab": {
          "base_uri": "https://localhost:8080/"
        },
        "id": "DxtXll0vBxRD",
        "outputId": "109ac003-521c-4c5e-c2af-5578fff48926"
      },
      "source": [
        "datas[0],labels[0],width_heights[0]"
      ],
      "execution_count": 337,
      "outputs": [
        {
          "output_type": "execute_result",
          "data": {
            "text/plain": [
              "(array([[0., 0., 0., 0., 0., 0., 0., 0., 0., 0.],\n",
              "        [0., 0., 0., 0., 0., 0., 0., 0., 0., 0.],\n",
              "        [0., 0., 0., 0., 0., 0., 0., 0., 0., 0.],\n",
              "        [0., 0., 0., 0., 1., 1., 1., 1., 0., 0.],\n",
              "        [0., 0., 0., 0., 1., 1., 1., 1., 0., 0.],\n",
              "        [0., 0., 0., 0., 1., 1., 1., 1., 0., 0.],\n",
              "        [0., 0., 0., 0., 1., 1., 1., 1., 0., 0.],\n",
              "        [0., 0., 0., 0., 0., 0., 0., 0., 0., 0.],\n",
              "        [0., 0., 0., 0., 0., 0., 0., 0., 0., 0.],\n",
              "        [0., 0., 0., 0., 0., 0., 0., 0., 0., 0.]]),\n",
              " array([3., 4., 7., 8.]),\n",
              " array([4., 4.]))"
            ]
          },
          "metadata": {
            "tags": []
          },
          "execution_count": 337
        }
      ]
    },
    {
      "cell_type": "code",
      "metadata": {
        "colab": {
          "base_uri": "https://localhost:8080/",
          "height": 286
        },
        "id": "ZswAYBrK9yyP",
        "outputId": "11670d68-f91c-4b89-cb3a-cff96eab7888"
      },
      "source": [
        "# 尝试画出这个矩形\n",
        "fig = plt.figure()\n",
        "ax1 = fig.add_subplot(111, aspect='equal')\n",
        "plt.xlim(0, size)\n",
        "plt.ylim(0, size)\n",
        "ax1.add_patch(matplotlib.patches.Rectangle((obj_x, obj_y), obj_width, obj_height, ec='r',color='maroon'))\n",
        "plt.show()\n",
        "obj_x,obj_y,obj_x2,obj_y2,obj_width,obj_height # 理论上这个应该是正确的图像"
      ],
      "execution_count": 338,
      "outputs": [
        {
          "output_type": "display_data",
          "data": {
            "image/png": "[encoded data removed]",
            "text/plain": [
              "<Figure size 432x288 with 1 Axes>"
            ]
          },
          "metadata": {
            "tags": [],
            "needs_background": "light"
          }
        },
        {
          "output_type": "execute_result",
          "data": {
            "text/plain": [
              "(1, 6, array([4]), array([8]), array([3]), array([2]))"
            ]
          },
          "metadata": {
            "tags": []
          },
          "execution_count": 338
        }
      ]
    },
    {
      "cell_type": "markdown",
      "metadata": {
        "id": "z28R4eEfHQvN"
      },
      "source": [
        "# 使用Dataloader对数据进行分割"
      ]
    },
    {
      "cell_type": "code",
      "metadata": {
        "id": "79aXnMH1DI8g"
      },
      "source": [
        "# 通过dataLoader对数据进行分割\n",
        "from torch.utils.data import DataLoader,Dataset \n",
        "device = torch.device(\"cuda\") if torch.cuda.is_available() else torch.device(\"cpu\")\n",
        "from tqdm import tqdm"
      ],
      "execution_count": 339,
      "outputs": []
    },
    {
      "cell_type": "code",
      "metadata": {
        "colab": {
          "base_uri": "https://localhost:8080/"
        },
        "id": "qnxXr5BvHPz2",
        "outputId": "0de5db47-3dba-4240-c24e-b3536ff1bfbf"
      },
      "source": [
        "img_data = torch.from_numpy(datas).to(device)\n",
        "img_data.shape"
      ],
      "execution_count": 340,
      "outputs": [
        {
          "output_type": "execute_result",
          "data": {
            "text/plain": [
              "torch.Size([3000, 10, 10])"
            ]
          },
          "metadata": {
            "tags": []
          },
          "execution_count": 340
        }
      ]
    },
    {
      "cell_type": "code",
      "metadata": {
        "colab": {
          "base_uri": "https://localhost:8080/"
        },
        "id": "xNW1gjOMHvva",
        "outputId": "01f4f500-3176-4d66-9ee4-ac85b9730087"
      },
      "source": [
        "labels_data = torch.from_numpy(labels).to(device)\n",
        "labels_data.shape"
      ],
      "execution_count": 341,
      "outputs": [
        {
          "output_type": "execute_result",
          "data": {
            "text/plain": [
              "torch.Size([3000, 4])"
            ]
          },
          "metadata": {
            "tags": []
          },
          "execution_count": 341
        }
      ]
    },
    {
      "cell_type": "code",
      "metadata": {
        "id": "JwA-QcUGIGMt"
      },
      "source": [
        "# 定义DealDatasets返回相应的数据给Dataloader进行使用\n",
        "class DealDatasets(Dataset):\n",
        "  def __init__(self,img_data,labels_data):\n",
        "    self.img_data = img_data\n",
        "    self.labels_data = labels_data\n",
        "    self.len = img_data.shape[0]\n",
        "\n",
        "  def __getitem__(self,index):\n",
        "    return self.img_data[index],self.labels_data[index]\n",
        "\n",
        "  def __len__(self):\n",
        "    return self.len"
      ],
      "execution_count": 342,
      "outputs": []
    },
    {
      "cell_type": "code",
      "metadata": {
        "id": "YRs8YVIZH7FY"
      },
      "source": [
        "train_loader = DataLoader(DealDatasets(img_data,labels_data),batch_size=32,shuffle=True)"
      ],
      "execution_count": 343,
      "outputs": []
    },
    {
      "cell_type": "code",
      "metadata": {
        "colab": {
          "base_uri": "https://localhost:8080/"
        },
        "id": "SGQgzjykJWgg",
        "outputId": "d6f04147-45d2-49b4-c2c4-35cd75b9f245"
      },
      "source": [
        "for i,data in enumerate(tqdm(train_loader)):\n",
        "  t_data,t_label = data\n",
        "# train_loader可以使用了."
      ],
      "execution_count": 344,
      "outputs": [
        {
          "output_type": "stream",
          "text": [
            "100%|██████████| 94/94 [00:00<00:00, 1599.60it/s]\n"
          ],
          "name": "stderr"
        }
      ]
    },
    {
      "cell_type": "markdown",
      "metadata": {
        "id": "cNPQOjfIKrOf"
      },
      "source": [
        "# 定义模型"
      ]
    },
    {
      "cell_type": "code",
      "metadata": {
        "id": "P-9SxchxKR8l"
      },
      "source": [
        "class RecogizeShapeRegressionModel(nn.Module):\n",
        "  def __init__(self,input_width,input_height):\n",
        "    super().__init__()\n",
        "    self.model = nn.Sequential(\n",
        "      nn.Linear(input_width*input_height,128),\n",
        "      nn.ReLU(),\n",
        "      nn.Dropout(0.2,inplace=True),\n",
        "      nn.Linear(128,64),\n",
        "      # nn.ReLU(),\n",
        "      # nn.Dropout(0.2,inplace=True),\n",
        "      # nn.Linear(64,32),\n",
        "      # nn.ReLU(),\n",
        "      # nn.Dropout(0.2,inplace=True),\n",
        "      # nn.Linear(32,16),\n",
        "      nn.ReLU(),\n",
        "      nn.Dropout(0.5,inplace=True),\n",
        "      nn.Linear(64,4)\n",
        "    )\n",
        "  \n",
        "  def forward(self,x):\n",
        "    return self.model(x)\n"
      ],
      "execution_count": 345,
      "outputs": []
    },
    {
      "cell_type": "code",
      "metadata": {
        "colab": {
          "base_uri": "https://localhost:8080/"
        },
        "id": "sGUJNiYHL351",
        "outputId": "ecc4586c-9521-4727-d507-7be7a64bdef6"
      },
      "source": [
        "shapeRegressionModel = RecogizeShapeRegressionModel(size,size).double().to(device)\n",
        "shapeRegressionModel"
      ],
      "execution_count": 346,
      "outputs": [
        {
          "output_type": "execute_result",
          "data": {
            "text/plain": [
              "RecogizeShapeRegressionModel(\n",
              "  (model): Sequential(\n",
              "    (0): Linear(in_features=100, out_features=128, bias=True)\n",
              "    (1): ReLU()\n",
              "    (2): Dropout(p=0.2, inplace=True)\n",
              "    (3): Linear(in_features=128, out_features=64, bias=True)\n",
              "    (4): ReLU()\n",
              "    (5): Dropout(p=0.5, inplace=True)\n",
              "    (6): Linear(in_features=64, out_features=4, bias=True)\n",
              "  )\n",
              ")"
            ]
          },
          "metadata": {
            "tags": []
          },
          "execution_count": 346
        }
      ]
    },
    {
      "cell_type": "code",
      "metadata": {
        "id": "-ALW53qDL8GE"
      },
      "source": [
        "# 定义loss\n",
        "loss_fn = torch.nn.L1Loss()\n",
        "adam = torch.optim.Adam(shapeRegressionModel.parameters(),lr=0.0001)"
      ],
      "execution_count": 347,
      "outputs": []
    },
    {
      "cell_type": "markdown",
      "metadata": {
        "id": "3Ji6Vuq5Mp9f"
      },
      "source": [
        "# 开始训练模型"
      ]
    },
    {
      "cell_type": "code",
      "metadata": {
        "colab": {
          "base_uri": "https://localhost:8080/"
        },
        "id": "ah4AgmHQOYac",
        "outputId": "e4cff315-e69e-4ef0-c83b-c837ae65df99"
      },
      "source": [
        "size"
      ],
      "execution_count": 348,
      "outputs": [
        {
          "output_type": "execute_result",
          "data": {
            "text/plain": [
              "10"
            ]
          },
          "metadata": {
            "tags": []
          },
          "execution_count": 348
        }
      ]
    },
    {
      "cell_type": "code",
      "metadata": {
        "colab": {
          "base_uri": "https://localhost:8080/"
        },
        "id": "v4WlAn1ZMo7a",
        "outputId": "1296af2f-c640-463d-c499-6baa7110858e"
      },
      "source": [
        "epoches = 100\n",
        "for epoch in tqdm(range(epoches)):\n",
        "  for i,data in enumerate(train_loader):\n",
        "    t_data,t_label = data\n",
        "    # print(t_data.shape,t_label.shape)\n",
        "    # print(t_label.shape)\n",
        "    adam.zero_grad()\n",
        "    predicted = shapeRegressionModel(t_data.view(-1,size*size))\n",
        "    # print(predicted.shape)\n",
        "    loss = loss_fn(predicted,t_label)\n",
        "    loss.backward()\n",
        "    adam.step()\n",
        "    if i % 1000 == 0:\n",
        "      print(epoch,i,loss.item())"
      ],
      "execution_count": 349,
      "outputs": [
        {
          "output_type": "stream",
          "text": [
            "\r  0%|          | 0/100 [00:00<?, ?it/s]"
          ],
          "name": "stderr"
        },
        {
          "output_type": "stream",
          "text": [
            "0 0 5.19578343141234\n"
          ],
          "name": "stdout"
        },
        {
          "output_type": "stream",
          "text": [
            "\r  1%|          | 1/100 [00:00<00:24,  4.05it/s]"
          ],
          "name": "stderr"
        },
        {
          "output_type": "stream",
          "text": [
            "1 0 4.530701330277931\n"
          ],
          "name": "stdout"
        },
        {
          "output_type": "stream",
          "text": [
            "\r  2%|▏         | 2/100 [00:00<00:23,  4.08it/s]"
          ],
          "name": "stderr"
        },
        {
          "output_type": "stream",
          "text": [
            "2 0 4.293141334664826\n"
          ],
          "name": "stdout"
        },
        {
          "output_type": "stream",
          "text": [
            "  4%|▍         | 4/100 [00:00<00:21,  4.36it/s]"
          ],
          "name": "stderr"
        },
        {
          "output_type": "stream",
          "text": [
            "3 0 2.856648248971638\n",
            "4 0 2.736819506345771\n"
          ],
          "name": "stdout"
        },
        {
          "output_type": "stream",
          "text": [
            "\r  5%|▌         | 5/100 [00:01<00:22,  4.28it/s]"
          ],
          "name": "stderr"
        },
        {
          "output_type": "stream",
          "text": [
            "5 0 2.7516615626812095\n"
          ],
          "name": "stdout"
        },
        {
          "output_type": "stream",
          "text": [
            "  7%|▋         | 7/100 [00:01<00:20,  4.56it/s]"
          ],
          "name": "stderr"
        },
        {
          "output_type": "stream",
          "text": [
            "6 0 2.414259602040138\n",
            "7 0 2.3581425313643947\n"
          ],
          "name": "stdout"
        },
        {
          "output_type": "stream",
          "text": [
            "  9%|▉         | 9/100 [00:01<00:18,  4.85it/s]"
          ],
          "name": "stderr"
        },
        {
          "output_type": "stream",
          "text": [
            "8 0 2.2044935594710307\n",
            "9 0 2.228524263127079\n"
          ],
          "name": "stdout"
        },
        {
          "output_type": "stream",
          "text": [
            " 11%|█         | 11/100 [00:02<00:17,  4.98it/s]"
          ],
          "name": "stderr"
        },
        {
          "output_type": "stream",
          "text": [
            "10 0 1.987568296652709\n",
            "11 0 2.111794347369699\n"
          ],
          "name": "stdout"
        },
        {
          "output_type": "stream",
          "text": [
            "\r 12%|█▏        | 12/100 [00:02<00:17,  5.06it/s]"
          ],
          "name": "stderr"
        },
        {
          "output_type": "stream",
          "text": [
            "12 0 2.0803030338393174\n"
          ],
          "name": "stdout"
        },
        {
          "output_type": "stream",
          "text": [
            "\r 13%|█▎        | 13/100 [00:02<00:17,  4.86it/s]"
          ],
          "name": "stderr"
        },
        {
          "output_type": "stream",
          "text": [
            "13 0 1.8206398944633264\n"
          ],
          "name": "stdout"
        },
        {
          "output_type": "stream",
          "text": [
            "\r 14%|█▍        | 14/100 [00:03<00:18,  4.55it/s]"
          ],
          "name": "stderr"
        },
        {
          "output_type": "stream",
          "text": [
            "14 0 1.8980207016719237\n"
          ],
          "name": "stdout"
        },
        {
          "output_type": "stream",
          "text": [
            "\r 15%|█▌        | 15/100 [00:03<00:19,  4.39it/s]"
          ],
          "name": "stderr"
        },
        {
          "output_type": "stream",
          "text": [
            "15 0 1.7736802736916455\n"
          ],
          "name": "stdout"
        },
        {
          "output_type": "stream",
          "text": [
            "\r 16%|█▌        | 16/100 [00:03<00:19,  4.30it/s]"
          ],
          "name": "stderr"
        },
        {
          "output_type": "stream",
          "text": [
            "16 0 1.8869903586951149\n"
          ],
          "name": "stdout"
        },
        {
          "output_type": "stream",
          "text": [
            " 18%|█▊        | 18/100 [00:03<00:17,  4.63it/s]"
          ],
          "name": "stderr"
        },
        {
          "output_type": "stream",
          "text": [
            "17 0 1.8951665255726426\n",
            "18 0 1.8850238299160402\n"
          ],
          "name": "stdout"
        },
        {
          "output_type": "stream",
          "text": [
            " 20%|██        | 20/100 [00:04<00:15,  5.07it/s]"
          ],
          "name": "stderr"
        },
        {
          "output_type": "stream",
          "text": [
            "19 0 2.0817196388401658\n",
            "20 0 1.7071647969730808\n"
          ],
          "name": "stdout"
        },
        {
          "output_type": "stream",
          "text": [
            " 22%|██▏       | 22/100 [00:04<00:15,  5.14it/s]"
          ],
          "name": "stderr"
        },
        {
          "output_type": "stream",
          "text": [
            "21 0 1.8737310467920398\n"
          ],
          "name": "stdout"
        },
        {
          "output_type": "stream",
          "text": [
            "\r 23%|██▎       | 23/100 [00:04<00:15,  5.05it/s]"
          ],
          "name": "stderr"
        },
        {
          "output_type": "stream",
          "text": [
            "22 0 1.8210891773186721\n"
          ],
          "name": "stdout"
        },
        {
          "output_type": "stream",
          "text": [
            "\r 24%|██▍       | 24/100 [00:05<00:14,  5.19it/s]"
          ],
          "name": "stderr"
        },
        {
          "output_type": "stream",
          "text": [
            "23 0 1.6824234525495183\n",
            "24 0 1.705330261113829\n"
          ],
          "name": "stdout"
        },
        {
          "output_type": "stream",
          "text": [
            " 26%|██▌       | 26/100 [00:05<00:13,  5.41it/s]"
          ],
          "name": "stderr"
        },
        {
          "output_type": "stream",
          "text": [
            "25 0 1.895551696102682\n",
            "26 0 1.8630824517147648\n"
          ],
          "name": "stdout"
        },
        {
          "output_type": "stream",
          "text": [
            " 28%|██▊       | 28/100 [00:05<00:13,  5.34it/s]"
          ],
          "name": "stderr"
        },
        {
          "output_type": "stream",
          "text": [
            "27 0 1.6639086112536818\n",
            "28 0 1.6035285502251608\n"
          ],
          "name": "stdout"
        },
        {
          "output_type": "stream",
          "text": [
            " 30%|███       | 30/100 [00:06<00:12,  5.43it/s]"
          ],
          "name": "stderr"
        },
        {
          "output_type": "stream",
          "text": [
            "29 0 1.7795592123088815\n",
            "30 0 1.850431231346507\n"
          ],
          "name": "stdout"
        },
        {
          "output_type": "stream",
          "text": [
            " 32%|███▏      | 32/100 [00:06<00:12,  5.49it/s]"
          ],
          "name": "stderr"
        },
        {
          "output_type": "stream",
          "text": [
            "31 0 1.6794729852607824\n",
            "32 0 1.5496996851519844\n"
          ],
          "name": "stdout"
        },
        {
          "output_type": "stream",
          "text": [
            " 34%|███▍      | 34/100 [00:06<00:12,  5.25it/s]"
          ],
          "name": "stderr"
        },
        {
          "output_type": "stream",
          "text": [
            "33 0 1.5813041312669807\n",
            "34 0 1.6828104232376506\n"
          ],
          "name": "stdout"
        },
        {
          "output_type": "stream",
          "text": [
            " 36%|███▌      | 36/100 [00:07<00:11,  5.48it/s]"
          ],
          "name": "stderr"
        },
        {
          "output_type": "stream",
          "text": [
            "35 0 1.7015318405829865\n",
            "36 0 1.4912869371254498\n"
          ],
          "name": "stdout"
        },
        {
          "output_type": "stream",
          "text": [
            " 38%|███▊      | 38/100 [00:07<00:11,  5.31it/s]"
          ],
          "name": "stderr"
        },
        {
          "output_type": "stream",
          "text": [
            "37 0 1.6299086145908892\n",
            "38 0 1.7933510340281715\n"
          ],
          "name": "stdout"
        },
        {
          "output_type": "stream",
          "text": [
            "\r 39%|███▉      | 39/100 [00:07<00:12,  4.86it/s]"
          ],
          "name": "stderr"
        },
        {
          "output_type": "stream",
          "text": [
            "39 0 1.563158658286266\n"
          ],
          "name": "stdout"
        },
        {
          "output_type": "stream",
          "text": [
            "\r 40%|████      | 40/100 [00:08<00:12,  4.64it/s]"
          ],
          "name": "stderr"
        },
        {
          "output_type": "stream",
          "text": [
            "40 0 1.5997227126538753\n"
          ],
          "name": "stdout"
        },
        {
          "output_type": "stream",
          "text": [
            "\r 41%|████      | 41/100 [00:08<00:13,  4.52it/s]"
          ],
          "name": "stderr"
        },
        {
          "output_type": "stream",
          "text": [
            "41 0 1.6919961048208436\n"
          ],
          "name": "stdout"
        },
        {
          "output_type": "stream",
          "text": [
            "\r 42%|████▏     | 42/100 [00:08<00:13,  4.42it/s]"
          ],
          "name": "stderr"
        },
        {
          "output_type": "stream",
          "text": [
            "42 0 1.3194888277917942\n"
          ],
          "name": "stdout"
        },
        {
          "output_type": "stream",
          "text": [
            "\r 43%|████▎     | 43/100 [00:08<00:13,  4.35it/s]"
          ],
          "name": "stderr"
        },
        {
          "output_type": "stream",
          "text": [
            "43 0 1.523933912449258\n"
          ],
          "name": "stdout"
        },
        {
          "output_type": "stream",
          "text": [
            "\r 44%|████▍     | 44/100 [00:09<00:13,  4.27it/s]"
          ],
          "name": "stderr"
        },
        {
          "output_type": "stream",
          "text": [
            "44 0 1.4908512664232552\n"
          ],
          "name": "stdout"
        },
        {
          "output_type": "stream",
          "text": [
            "\r 45%|████▌     | 45/100 [00:09<00:12,  4.27it/s]"
          ],
          "name": "stderr"
        },
        {
          "output_type": "stream",
          "text": [
            "45 0 1.6099937479417585\n"
          ],
          "name": "stdout"
        },
        {
          "output_type": "stream",
          "text": [
            "\r 46%|████▌     | 46/100 [00:09<00:12,  4.25it/s]"
          ],
          "name": "stderr"
        },
        {
          "output_type": "stream",
          "text": [
            "46 0 1.4073067103111216\n"
          ],
          "name": "stdout"
        },
        {
          "output_type": "stream",
          "text": [
            "\r 47%|████▋     | 47/100 [00:09<00:12,  4.25it/s]"
          ],
          "name": "stderr"
        },
        {
          "output_type": "stream",
          "text": [
            "47 0 1.4282695708523279\n"
          ],
          "name": "stdout"
        },
        {
          "output_type": "stream",
          "text": [
            "\r 48%|████▊     | 48/100 [00:10<00:12,  4.16it/s]"
          ],
          "name": "stderr"
        },
        {
          "output_type": "stream",
          "text": [
            "48 0 1.655223210721592\n"
          ],
          "name": "stdout"
        },
        {
          "output_type": "stream",
          "text": [
            "\r 49%|████▉     | 49/100 [00:10<00:12,  4.16it/s]"
          ],
          "name": "stderr"
        },
        {
          "output_type": "stream",
          "text": [
            "49 0 1.7979862326639027\n"
          ],
          "name": "stdout"
        },
        {
          "output_type": "stream",
          "text": [
            "\r 50%|█████     | 50/100 [00:10<00:11,  4.19it/s]"
          ],
          "name": "stderr"
        },
        {
          "output_type": "stream",
          "text": [
            "50 0 1.6471118657693624\n"
          ],
          "name": "stdout"
        },
        {
          "output_type": "stream",
          "text": [
            "\r 51%|█████     | 51/100 [00:10<00:11,  4.10it/s]"
          ],
          "name": "stderr"
        },
        {
          "output_type": "stream",
          "text": [
            "51 0 1.4317682243625125\n"
          ],
          "name": "stdout"
        },
        {
          "output_type": "stream",
          "text": [
            "\r 52%|█████▏    | 52/100 [00:10<00:11,  4.25it/s]"
          ],
          "name": "stderr"
        },
        {
          "output_type": "stream",
          "text": [
            "52 0 1.5528723313156219\n"
          ],
          "name": "stdout"
        },
        {
          "output_type": "stream",
          "text": [
            "\r 53%|█████▎    | 53/100 [00:11<00:11,  4.24it/s]"
          ],
          "name": "stderr"
        },
        {
          "output_type": "stream",
          "text": [
            "53 0 1.440024632426699\n"
          ],
          "name": "stdout"
        },
        {
          "output_type": "stream",
          "text": [
            "\r 54%|█████▍    | 54/100 [00:11<00:10,  4.24it/s]"
          ],
          "name": "stderr"
        },
        {
          "output_type": "stream",
          "text": [
            "54 0 1.6575350329524337\n"
          ],
          "name": "stdout"
        },
        {
          "output_type": "stream",
          "text": [
            "\r 55%|█████▌    | 55/100 [00:11<00:10,  4.27it/s]"
          ],
          "name": "stderr"
        },
        {
          "output_type": "stream",
          "text": [
            "55 0 1.4700873535023828\n"
          ],
          "name": "stdout"
        },
        {
          "output_type": "stream",
          "text": [
            "\r 56%|█████▌    | 56/100 [00:11<00:09,  4.40it/s]"
          ],
          "name": "stderr"
        },
        {
          "output_type": "stream",
          "text": [
            "56 0 1.4959792240862702\n"
          ],
          "name": "stdout"
        },
        {
          "output_type": "stream",
          "text": [
            " 58%|█████▊    | 58/100 [00:12<00:08,  4.76it/s]"
          ],
          "name": "stderr"
        },
        {
          "output_type": "stream",
          "text": [
            "57 0 1.462344498020748\n",
            "58 0 1.4183121106636718\n"
          ],
          "name": "stdout"
        },
        {
          "output_type": "stream",
          "text": [
            " 60%|██████    | 60/100 [00:12<00:07,  5.14it/s]"
          ],
          "name": "stderr"
        },
        {
          "output_type": "stream",
          "text": [
            "59 0 1.5027955263041564\n",
            "60 0 1.6143766830759492\n"
          ],
          "name": "stdout"
        },
        {
          "output_type": "stream",
          "text": [
            " 62%|██████▏   | 62/100 [00:13<00:07,  5.23it/s]"
          ],
          "name": "stderr"
        },
        {
          "output_type": "stream",
          "text": [
            "61 0 1.4515392350335525\n",
            "62 0 1.4992689926338636\n"
          ],
          "name": "stdout"
        },
        {
          "output_type": "stream",
          "text": [
            " 64%|██████▍   | 64/100 [00:13<00:06,  5.42it/s]"
          ],
          "name": "stderr"
        },
        {
          "output_type": "stream",
          "text": [
            "63 0 1.334474567804816\n",
            "64 0 1.4994822651944995\n"
          ],
          "name": "stdout"
        },
        {
          "output_type": "stream",
          "text": [
            " 66%|██████▌   | 66/100 [00:13<00:06,  5.48it/s]"
          ],
          "name": "stderr"
        },
        {
          "output_type": "stream",
          "text": [
            "65 0 1.4451673759360335\n",
            "66 0 1.5124318884022372\n"
          ],
          "name": "stdout"
        },
        {
          "output_type": "stream",
          "text": [
            " 68%|██████▊   | 68/100 [00:14<00:05,  5.37it/s]"
          ],
          "name": "stderr"
        },
        {
          "output_type": "stream",
          "text": [
            "67 0 1.3940718290737288\n",
            "68 0 1.5386967079263643\n"
          ],
          "name": "stdout"
        },
        {
          "output_type": "stream",
          "text": [
            "\r 69%|██████▉   | 69/100 [00:14<00:05,  5.28it/s]"
          ],
          "name": "stderr"
        },
        {
          "output_type": "stream",
          "text": [
            "69 0 1.5171055180290307\n"
          ],
          "name": "stdout"
        },
        {
          "output_type": "stream",
          "text": [
            "\r 70%|███████   | 70/100 [00:14<00:06,  4.93it/s]"
          ],
          "name": "stderr"
        },
        {
          "output_type": "stream",
          "text": [
            "70 0 1.6592709484746389\n"
          ],
          "name": "stdout"
        },
        {
          "output_type": "stream",
          "text": [
            " 72%|███████▏  | 72/100 [00:14<00:05,  4.89it/s]"
          ],
          "name": "stderr"
        },
        {
          "output_type": "stream",
          "text": [
            "71 0 1.4680655255308226\n",
            "72 0 1.56361275225668\n"
          ],
          "name": "stdout"
        },
        {
          "output_type": "stream",
          "text": [
            " 74%|███████▍  | 74/100 [00:15<00:04,  5.23it/s]"
          ],
          "name": "stderr"
        },
        {
          "output_type": "stream",
          "text": [
            "73 0 1.4496396259077124\n",
            "74 0 1.447201206587021\n"
          ],
          "name": "stdout"
        },
        {
          "output_type": "stream",
          "text": [
            " 76%|███████▌  | 76/100 [00:15<00:04,  5.14it/s]"
          ],
          "name": "stderr"
        },
        {
          "output_type": "stream",
          "text": [
            "75 0 1.6075514224812733\n",
            "76 0 1.5813599349454623\n"
          ],
          "name": "stdout"
        },
        {
          "output_type": "stream",
          "text": [
            "\r 77%|███████▋  | 77/100 [00:15<00:04,  4.92it/s]"
          ],
          "name": "stderr"
        },
        {
          "output_type": "stream",
          "text": [
            "77 0 1.4071082771567487\n"
          ],
          "name": "stdout"
        },
        {
          "output_type": "stream",
          "text": [
            "\r 78%|███████▊  | 78/100 [00:16<00:04,  4.69it/s]"
          ],
          "name": "stderr"
        },
        {
          "output_type": "stream",
          "text": [
            "78 0 1.4291137044935724\n"
          ],
          "name": "stdout"
        },
        {
          "output_type": "stream",
          "text": [
            "\r 79%|███████▉  | 79/100 [00:16<00:04,  4.49it/s]"
          ],
          "name": "stderr"
        },
        {
          "output_type": "stream",
          "text": [
            "79 0 1.3370304477624018\n"
          ],
          "name": "stdout"
        },
        {
          "output_type": "stream",
          "text": [
            "\r 80%|████████  | 80/100 [00:16<00:04,  4.39it/s]"
          ],
          "name": "stderr"
        },
        {
          "output_type": "stream",
          "text": [
            "80 0 1.546339642777566\n"
          ],
          "name": "stdout"
        },
        {
          "output_type": "stream",
          "text": [
            "\r 81%|████████  | 81/100 [00:16<00:04,  4.31it/s]"
          ],
          "name": "stderr"
        },
        {
          "output_type": "stream",
          "text": [
            "81 0 1.391362597758448\n"
          ],
          "name": "stdout"
        },
        {
          "output_type": "stream",
          "text": [
            "\r 82%|████████▏ | 82/100 [00:17<00:04,  4.23it/s]"
          ],
          "name": "stderr"
        },
        {
          "output_type": "stream",
          "text": [
            "82 0 1.4437045247551676\n"
          ],
          "name": "stdout"
        },
        {
          "output_type": "stream",
          "text": [
            "\r 83%|████████▎ | 83/100 [00:17<00:04,  4.23it/s]"
          ],
          "name": "stderr"
        },
        {
          "output_type": "stream",
          "text": [
            "83 0 1.485078863907113\n"
          ],
          "name": "stdout"
        },
        {
          "output_type": "stream",
          "text": [
            "\r 84%|████████▍ | 84/100 [00:17<00:03,  4.19it/s]"
          ],
          "name": "stderr"
        },
        {
          "output_type": "stream",
          "text": [
            "84 0 1.5819095437454327\n"
          ],
          "name": "stdout"
        },
        {
          "output_type": "stream",
          "text": [
            " 86%|████████▌ | 86/100 [00:18<00:03,  4.62it/s]"
          ],
          "name": "stderr"
        },
        {
          "output_type": "stream",
          "text": [
            "85 0 1.4040819206606354\n",
            "86 0 1.5300404747543022\n"
          ],
          "name": "stdout"
        },
        {
          "output_type": "stream",
          "text": [
            " 88%|████████▊ | 88/100 [00:18<00:02,  5.07it/s]"
          ],
          "name": "stderr"
        },
        {
          "output_type": "stream",
          "text": [
            "87 0 1.4000435935570845\n",
            "88 0 1.4402547781957422\n"
          ],
          "name": "stdout"
        },
        {
          "output_type": "stream",
          "text": [
            " 90%|█████████ | 90/100 [00:18<00:01,  5.23it/s]"
          ],
          "name": "stderr"
        },
        {
          "output_type": "stream",
          "text": [
            "89 0 1.4734443395406238\n",
            "90 0 1.4954147967759481\n"
          ],
          "name": "stdout"
        },
        {
          "output_type": "stream",
          "text": [
            " 92%|█████████▏| 92/100 [00:19<00:01,  5.06it/s]"
          ],
          "name": "stderr"
        },
        {
          "output_type": "stream",
          "text": [
            "91 0 1.692710510462236\n"
          ],
          "name": "stdout"
        },
        {
          "output_type": "stream",
          "text": [
            "\r 93%|█████████▎| 93/100 [00:19<00:01,  5.20it/s]"
          ],
          "name": "stderr"
        },
        {
          "output_type": "stream",
          "text": [
            "92 0 1.504649825533777\n",
            "93 0 1.3908023057031313\n"
          ],
          "name": "stdout"
        },
        {
          "output_type": "stream",
          "text": [
            " 95%|█████████▌| 95/100 [00:19<00:00,  5.18it/s]"
          ],
          "name": "stderr"
        },
        {
          "output_type": "stream",
          "text": [
            "94 0 1.4578794903233026\n",
            "95 0 1.5388446694092477\n"
          ],
          "name": "stdout"
        },
        {
          "output_type": "stream",
          "text": [
            "\r 96%|█████████▌| 96/100 [00:19<00:00,  5.07it/s]"
          ],
          "name": "stderr"
        },
        {
          "output_type": "stream",
          "text": [
            "96 0 1.5413895928301016\n"
          ],
          "name": "stdout"
        },
        {
          "output_type": "stream",
          "text": [
            "\r 97%|█████████▋| 97/100 [00:20<00:00,  4.68it/s]"
          ],
          "name": "stderr"
        },
        {
          "output_type": "stream",
          "text": [
            "97 0 1.5037708685493736\n"
          ],
          "name": "stdout"
        },
        {
          "output_type": "stream",
          "text": [
            "\r 98%|█████████▊| 98/100 [00:20<00:00,  4.49it/s]"
          ],
          "name": "stderr"
        },
        {
          "output_type": "stream",
          "text": [
            "98 0 1.4453803878599238\n"
          ],
          "name": "stdout"
        },
        {
          "output_type": "stream",
          "text": [
            "\r 99%|█████████▉| 99/100 [00:20<00:00,  4.34it/s]"
          ],
          "name": "stderr"
        },
        {
          "output_type": "stream",
          "text": [
            "99 0 1.4475986462114097\n"
          ],
          "name": "stdout"
        },
        {
          "output_type": "stream",
          "text": [
            "100%|██████████| 100/100 [00:20<00:00,  4.78it/s]\n"
          ],
          "name": "stderr"
        }
      ]
    },
    {
      "cell_type": "markdown",
      "metadata": {
        "id": "iOWGeuhqQ6Y3"
      },
      "source": [
        "# 单独测试模型的效果\n",
        "\n",
        "随机生成一个图像,然后让模型来判断"
      ]
    },
    {
      "cell_type": "code",
      "metadata": {
        "colab": {
          "base_uri": "https://localhost:8080/",
          "height": 286
        },
        "id": "Y-rMYhZcNnyp",
        "outputId": "5a6b84c0-5cc2-4d42-be27-1acefd9a24d1"
      },
      "source": [
        "test_datas = np.zeros((1,size,size)) # 存放所有的图片信息\n",
        "test_labels = np.zeros((1,4)) # 存放所有的坐标信息\n",
        "test_width_heights = np.zeros((1,2))\n",
        "for i in range(1):\n",
        "  obj_width = np.random.randint(1,max_obj_size+1,size=1) # 生成随机的宽\n",
        "  obj_height = np.random.randint(1,max_obj_size+1,size=1) # 生成随机的高\n",
        "  obj_x = np.random.randint(0,size) #生成随机的x\n",
        "  obj_y = np.random.randint(0,size) #生成随机的y\n",
        "\n",
        "  obj_x2 = 0\n",
        "  obj_y2 = 0\n",
        "  # 进行判断,判断是放在左下角 \\ 右下角 \\左上角 \\ 右上角 因为随机生成的矩形有可能会超出边界,这个时候需要进行判断\n",
        "  if obj_x + obj_width < size and obj_y + obj_height < size: # 右上角\n",
        "    obj_x2 = obj_x + obj_width\n",
        "    obj_y2 = obj_y + obj_height\n",
        "  elif obj_x + obj_width < size and obj_y - obj_height >= 0: # 右下角\n",
        "    obj_x2 = obj_x + obj_width\n",
        "    obj_y2 = obj_y - obj_height\n",
        "    obj_height = 0 - obj_height\n",
        "  elif obj_x - obj_width >= 0 and obj_y + obj_height < size: # 左上角\n",
        "    obj_x2 = obj_x - obj_width\n",
        "    obj_y2 = obj_y + obj_height\n",
        "    obj_width = 0 - obj_width\n",
        "  elif obj_x - obj_width >=0 and obj_y - obj_height >= 0: # 左下角\n",
        "    obj_x2 = obj_x - obj_width\n",
        "    obj_y2 = obj_y - obj_height\n",
        "    obj_width = 0 - obj_width\n",
        "    obj_height = 0 - obj_height\n",
        "  else:\n",
        "    print(\"生成矩形错误!!!\")\n",
        "    break;\n",
        "  test_labels[i] = [obj_x,obj_y,obj_x2[0],obj_y2[0]]\n",
        "  test_width_heights[i] = [obj_width[0],obj_height[0]]\n",
        "  temp_x = 0\n",
        "  temp_x2 = 0\n",
        "  temp_y =0 \n",
        "  temp_y2 =0\n",
        "  if obj_x < obj_x2[0]:\n",
        "    temp_x = obj_x\n",
        "    temp_x2 = obj_x2[0]\n",
        "  else:\n",
        "    temp_x = obj_x2[0]\n",
        "    temp_x2 = obj_x\n",
        "  if obj_y < obj_y2[0]:\n",
        "    temp_y = obj_y\n",
        "    temp_y2 = obj_y2[0]\n",
        "  else:\n",
        "    temp_y = obj_y2[0]\n",
        "    temp_y2 = obj_y\n",
        "  test_datas[i,temp_x:temp_x2,temp_y:temp_y2] = 1\n",
        "\n",
        "# 尝试画出这个矩形\n",
        "fig = plt.figure()\n",
        "ax1 = fig.add_subplot(111, aspect='equal')\n",
        "plt.xlim(0, size)\n",
        "plt.ylim(0, size)\n",
        "ax1.add_patch(matplotlib.patches.Rectangle((test_labels[0][0], test_labels[0][1]), test_width_heights[0][0], test_width_heights[0][1], ec='r',color='maroon'))\n",
        "plt.show()\n",
        "test_labels[0][0],test_labels[0][1],test_labels[0][2],test_labels[0][3],test_width_heights[0][0],test_width_heights[0][1] # 理论上这个应该是正确的图像"
      ],
      "execution_count": 352,
      "outputs": [
        {
          "output_type": "display_data",
          "data": {
            "image/png": "[encoded data removed]",
            "text/plain": [
              "<Figure size 432x288 with 1 Axes>"
            ]
          },
          "metadata": {
            "tags": [],
            "needs_background": "light"
          }
        },
        {
          "output_type": "execute_result",
          "data": {
            "text/plain": [
              "(0.0, 7.0, 4.0, 4.0, 4.0, -3.0)"
            ]
          },
          "metadata": {
            "tags": []
          },
          "execution_count": 352
        }
      ]
    },
    {
      "cell_type": "code",
      "metadata": {
        "colab": {
          "base_uri": "https://localhost:8080/",
          "height": 303
        },
        "id": "MBor1RaTRfTL",
        "outputId": "34f4ceb0-f067-4521-9bbd-66314a57b828"
      },
      "source": [
        "test_input = torch.from_numpy(test_datas).to(device).view(-1,size*size)\n",
        "result = shapeRegressionModel(test_input)\n",
        "print(result)\n",
        "# 尝试画出预测的矩形\n",
        "fig = plt.figure()\n",
        "ax1 = fig.add_subplot(111, aspect='equal')\n",
        "plt.xlim(0, size)\n",
        "plt.ylim(0, size)\n",
        "test_width=0\n",
        "test_hight=0\n",
        "# if result[0][0] > result[0][2]:\n",
        "#   test_width = result[0][2] - result[0][0]\n",
        "# else:\n",
        "#   test_width = result[0][0] - result[0][2]\n",
        "ax1.add_patch(matplotlib.patches.Rectangle((result[0][0], result[0][1]), result[0][2] - result[0][0], result[0][3] - result[0][1], ec='r',color='maroon'))\n",
        "plt.show()\n",
        "# test_labels[0][0],test_labels[0][1],test_labels[0][2],test_labels[0][3],test_width_heights[0][0],test_width_heights[0][1] # 理论上这个应该是正确的图像"
      ],
      "execution_count": 353,
      "outputs": [
        {
          "output_type": "stream",
          "text": [
            "tensor([[0.5688, 4.5409, 2.9365, 5.3704]], device='cuda:0',\n",
            "       dtype=torch.float64, grad_fn=<AddmmBackward>)\n"
          ],
          "name": "stdout"
        },
        {
          "output_type": "display_data",
          "data": {
            "image/png": "[encoded data removed]",
            "text/plain": [
              "<Figure size 432x288 with 1 Axes>"
            ]
          },
          "metadata": {
            "tags": [],
            "needs_background": "light"
          }
        }
      ]
    },
    {
      "cell_type": "code",
      "metadata": {
        "id": "_Xb76uB9SZnX"
      },
      "source": [
        ""
      ],
      "execution_count": 351,
      "outputs": []
    }
  ]
}