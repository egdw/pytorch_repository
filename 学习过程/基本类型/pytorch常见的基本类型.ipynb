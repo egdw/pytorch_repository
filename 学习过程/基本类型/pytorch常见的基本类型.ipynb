{
  "nbformat": 4,
  "nbformat_minor": 0,
  "metadata": {
    "colab": {
      "name": "pytorch常见的基本类型.ipynb",
      "provenance": []
    },
    "kernelspec": {
      "name": "python3",
      "display_name": "Python 3"
    }
  },
  "cells": [
    {
      "cell_type": "code",
      "metadata": {
        "id": "RWawDX8jZg3z"
      },
      "source": [
        "import torch\n",
        "from torch import tensor"
      ],
      "execution_count": 2,
      "outputs": []
    },
    {
      "cell_type": "code",
      "metadata": {
        "colab": {
          "base_uri": "https://localhost:8080/"
        },
        "id": "zdeiESt5aJuY",
        "outputId": "c64cc13d-c403-4d37-b7ea-1c45fec260b7"
      },
      "source": [
        "# scale \n",
        "scale = tensor([1])\n",
        "scale.item()"
      ],
      "execution_count": 3,
      "outputs": [
        {
          "output_type": "execute_result",
          "data": {
            "text/plain": [
              "1"
            ]
          },
          "metadata": {
            "tags": []
          },
          "execution_count": 3
        }
      ]
    },
    {
      "cell_type": "code",
      "metadata": {
        "colab": {
          "base_uri": "https://localhost:8080/"
        },
        "id": "7uMgZH0gaeWz",
        "outputId": "ff980af4-6225-4065-c399-6975e69615cb"
      },
      "source": [
        "# vector\n",
        "vector = tensor([1,1])\n",
        "vector.size()"
      ],
      "execution_count": 4,
      "outputs": [
        {
          "output_type": "execute_result",
          "data": {
            "text/plain": [
              "torch.Size([2])"
            ]
          },
          "metadata": {
            "tags": []
          },
          "execution_count": 4
        }
      ]
    },
    {
      "cell_type": "code",
      "metadata": {
        "colab": {
          "base_uri": "https://localhost:8080/"
        },
        "id": "v0VbRJhUafaD",
        "outputId": "dd8b2649-0ad3-4167-fe2f-0aaa8ebdd7bb"
      },
      "source": [
        "# matrix\n",
        "matrix = tensor([[1,1],[2,2]])\n",
        "matrix.size()"
      ],
      "execution_count": 5,
      "outputs": [
        {
          "output_type": "execute_result",
          "data": {
            "text/plain": [
              "torch.Size([2, 2])"
            ]
          },
          "metadata": {
            "tags": []
          },
          "execution_count": 5
        }
      ]
    },
    {
      "cell_type": "code",
      "metadata": {
        "colab": {
          "base_uri": "https://localhost:8080/"
        },
        "id": "c5nHr5nTay4b",
        "outputId": "e8c8ecac-8c5c-4ebc-aaa1-562c7c398cdd"
      },
      "source": [
        "matrix * matrix"
      ],
      "execution_count": 6,
      "outputs": [
        {
          "output_type": "execute_result",
          "data": {
            "text/plain": [
              "tensor([[1, 1],\n",
              "        [4, 4]])"
            ]
          },
          "metadata": {
            "tags": []
          },
          "execution_count": 6
        }
      ]
    }
  ]
}